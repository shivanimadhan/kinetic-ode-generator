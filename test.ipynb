{
 "cells": [
  {
   "cell_type": "code",
   "execution_count": 3,
   "metadata": {},
   "outputs": [
    {
     "name": "stdout",
     "output_type": "stream",
     "text": [
      "The autoreload extension is already loaded. To reload it, use:\n",
      "  %reload_ext autoreload\n"
     ]
    }
   ],
   "source": [
    "%load_ext autoreload\n",
    "%autoreload 2\n",
    "from parse.parse_reactions import parse_reaction_string\n",
    "from parse.parse_species import parse_species_string, parse_all_species\n",
    "from parse.parse_input import separate_input_file, parse_args_kwargs"
   ]
  },
  {
   "cell_type": "code",
   "execution_count": 4,
   "metadata": {},
   "outputs": [
    {
     "name": "stdout",
     "output_type": "stream",
     "text": [
      "{'general': [], 'species': [], 'rate constants': [], 'reactions': []}\n"
     ]
    },
    {
     "data": {
      "text/plain": [
       "([Species(name='I', type=<SpeciesType.UNIT: 1>, FW=50.0, c0=0.005),\n",
       "  Species(name='R', type=<SpeciesType.UNIT: 1>, FW=25.0, c0=0.0),\n",
       "  Species(name='A', type=<SpeciesType.UNIT: 1>, FW=100.0, c0=1.5),\n",
       "  Species(name='B', type=<SpeciesType.UNIT: 1>, FW=200.0, c0=1.5),\n",
       "  Species(name='P[R.A]', type=<SpeciesType.POLY: 2>, FW=1.0, c0=0.0),\n",
       "  Species(name='P[R.B]', type=<SpeciesType.POLY: 2>, FW=1.0, c0=0.0),\n",
       "  Species(name='P[A.A]', type=<SpeciesType.POLY: 2>, FW=1.0, c0=0.0),\n",
       "  Species(name='P[A.B]', type=<SpeciesType.POLY: 2>, FW=1.0, c0=0.0),\n",
       "  Species(name='P[B.A]', type=<SpeciesType.POLY: 2>, FW=1.0, c0=0.0),\n",
       "  Species(name='P[B.B]', type=<SpeciesType.POLY: 2>, FW=1.0, c0=0.0),\n",
       "  Species(name='D', type=<SpeciesType.POLY: 2>, FW=1.0, c0=0.0)],\n",
       " [EquivalentSpecies(name='P[-.A]', type=<SpeciesType.POLY: 2>, eq='P[A.A]|P[B.A]'),\n",
       "  EquivalentSpecies(name='P[-.B]', type=<SpeciesType.POLY: 2>, eq='P[A.B]|P[B.B]')])"
      ]
     },
     "execution_count": 4,
     "metadata": {},
     "output_type": "execute_result"
    }
   ],
   "source": [
    "sections = separate_input_file('input/sample_input.txt')\n",
    "species_section = sections['species']\n",
    "parse_all_species(species_section)\n",
    "\n",
    "\n",
    "\n",
    "# for line in sections['species']:\n",
    "#     print(parse_species_string(line))\n",
    "# parse_args_kwargs(sections['species'])"
   ]
  },
  {
   "cell_type": "code",
   "execution_count": 5,
   "metadata": {},
   "outputs": [
    {
     "data": {
      "text/plain": [
       "Species(name='I', type=<SpeciesType.UNIT: 1>, FW=50.0, c0=0.005)"
      ]
     },
     "execution_count": 5,
     "metadata": {},
     "output_type": "execute_result"
    }
   ],
   "source": [
    "species_string = 'U I      c0=0.005 FW=50.0'\n",
    "parse_species_string(species_string)"
   ]
  },
  {
   "cell_type": "code",
   "execution_count": 6,
   "metadata": {},
   "outputs": [
    {
     "name": "stdout",
     "output_type": "stream",
     "text": [
      "Number: 23\n",
      "Remaining Part: PAA\n"
     ]
    },
    {
     "ename": "TypeError",
     "evalue": "ReactionSpecies.__init__() missing 2 required positional arguments: 'poly_product1' and 'poly_product2'",
     "output_type": "error",
     "traceback": [
      "\u001b[0;31m---------------------------------------------------------------------------\u001b[0m",
      "\u001b[0;31mTypeError\u001b[0m                                 Traceback (most recent call last)",
      "\u001b[1;32m/Users/shivanimadhan/Documents/research/kinetic-ode-generator/test.ipynb Cell 4\u001b[0m line \u001b[0;36m2\n\u001b[1;32m      <a href='vscode-notebook-cell:/Users/shivanimadhan/Documents/research/kinetic-ode-generator/test.ipynb#W3sZmlsZQ%3D%3D?line=0'>1</a>\u001b[0m reaction_string \u001b[39m=\u001b[39m \u001b[39m'\u001b[39m\u001b[39m23PAA + B -kpAAB-> 5PAB\u001b[39m\u001b[39m'\u001b[39m\n\u001b[0;32m----> <a href='vscode-notebook-cell:/Users/shivanimadhan/Documents/research/kinetic-ode-generator/test.ipynb#W3sZmlsZQ%3D%3D?line=1'>2</a>\u001b[0m parse_reaction_string(reaction_string)\n",
      "File \u001b[0;32m~/Documents/research/kinetic-ode-generator/parse/parse_reactions.py:14\u001b[0m, in \u001b[0;36mparse_reaction_string\u001b[0;34m(reaction_string)\u001b[0m\n\u001b[1;32m     12\u001b[0m \u001b[39m# Parse the reactant side\u001b[39;00m\n\u001b[1;32m     13\u001b[0m reactants \u001b[39m=\u001b[39m re\u001b[39m.\u001b[39msplit(\u001b[39mr\u001b[39m\u001b[39m'\u001b[39m\u001b[39m\\\u001b[39m\u001b[39ms*\u001b[39m\u001b[39m\\\u001b[39m\u001b[39m+\u001b[39m\u001b[39m\\\u001b[39m\u001b[39ms*\u001b[39m\u001b[39m'\u001b[39m, reactant_side)\n\u001b[0;32m---> 14\u001b[0m reactant_species \u001b[39m=\u001b[39m [parse_reaction_species_string(species) \u001b[39mfor\u001b[39;49;00m species \u001b[39min\u001b[39;49;00m reactants]\n\u001b[1;32m     16\u001b[0m \u001b[39m# Parse the product side\u001b[39;00m\n\u001b[1;32m     17\u001b[0m products \u001b[39m=\u001b[39m re\u001b[39m.\u001b[39msplit(\u001b[39mr\u001b[39m\u001b[39m'\u001b[39m\u001b[39m\\\u001b[39m\u001b[39ms*\u001b[39m\u001b[39m\\\u001b[39m\u001b[39m+\u001b[39m\u001b[39m\\\u001b[39m\u001b[39ms*\u001b[39m\u001b[39m'\u001b[39m, product_side)\n",
      "File \u001b[0;32m~/Documents/research/kinetic-ode-generator/parse/parse_reactions.py:14\u001b[0m, in \u001b[0;36m<listcomp>\u001b[0;34m(.0)\u001b[0m\n\u001b[1;32m     12\u001b[0m \u001b[39m# Parse the reactant side\u001b[39;00m\n\u001b[1;32m     13\u001b[0m reactants \u001b[39m=\u001b[39m re\u001b[39m.\u001b[39msplit(\u001b[39mr\u001b[39m\u001b[39m'\u001b[39m\u001b[39m\\\u001b[39m\u001b[39ms*\u001b[39m\u001b[39m\\\u001b[39m\u001b[39m+\u001b[39m\u001b[39m\\\u001b[39m\u001b[39ms*\u001b[39m\u001b[39m'\u001b[39m, reactant_side)\n\u001b[0;32m---> 14\u001b[0m reactant_species \u001b[39m=\u001b[39m [parse_reaction_species_string(species) \u001b[39mfor\u001b[39;00m species \u001b[39min\u001b[39;00m reactants]\n\u001b[1;32m     16\u001b[0m \u001b[39m# Parse the product side\u001b[39;00m\n\u001b[1;32m     17\u001b[0m products \u001b[39m=\u001b[39m re\u001b[39m.\u001b[39msplit(\u001b[39mr\u001b[39m\u001b[39m'\u001b[39m\u001b[39m\\\u001b[39m\u001b[39ms*\u001b[39m\u001b[39m\\\u001b[39m\u001b[39m+\u001b[39m\u001b[39m\\\u001b[39m\u001b[39ms*\u001b[39m\u001b[39m'\u001b[39m, product_side)\n",
      "File \u001b[0;32m~/Documents/research/kinetic-ode-generator/parse/parse_reactions.py:42\u001b[0m, in \u001b[0;36mparse_reaction_species_string\u001b[0;34m(reaction_species_string)\u001b[0m\n\u001b[1;32m     39\u001b[0m \u001b[39melse\u001b[39;00m:\n\u001b[1;32m     40\u001b[0m     \u001b[39mprint\u001b[39m(\u001b[39m\"\u001b[39m\u001b[39mNo match found.\u001b[39m\u001b[39m\"\u001b[39m)\n\u001b[0;32m---> 42\u001b[0m species \u001b[39m=\u001b[39m ReactionSpecies(remaining_part, \u001b[39mNone\u001b[39;49;00m, number)\n\u001b[1;32m     43\u001b[0m \u001b[39mreturn\u001b[39;00m species\n",
      "\u001b[0;31mTypeError\u001b[0m: ReactionSpecies.__init__() missing 2 required positional arguments: 'poly_product1' and 'poly_product2'"
     ]
    }
   ],
   "source": [
    "reaction_string = '23PAA + B -kpAAB-> 5PAB'\n",
    "parse_reaction_string(reaction_string)"
   ]
  },
  {
   "cell_type": "code",
   "execution_count": null,
   "metadata": {},
   "outputs": [
    {
     "name": "stdout",
     "output_type": "stream",
     "text": [
      "('P[A.A]', 'P[A.B]')\n",
      "('P[A.A]', 'P[B.B]')\n",
      "('P[B.A]', 'P[A.B]')\n",
      "('P[B.A]', 'P[B.B]')\n",
      "1: P[A.A] + P[A.B] -kpABC-> D\n",
      "2: P[A.A] + P[B.B] -kpABC-> D\n",
      "3: P[B.A] + P[A.B] -kpABC-> D\n",
      "4: P[B.A] + P[B.B] -kpABC-> D\n"
     ]
    }
   ],
   "source": [
    "from itertools import product\n",
    "\n",
    "# Given string format\n",
    "template_string = 'P[-.A] + P[-.B] -kpABC-> D'\n",
    "\n",
    "# Define possible replacements for \"P[-.A]\" and \"P[-.B]\"\n",
    "replacements_A = ['P[A.A]', 'P[B.A]']\n",
    "replacements_B = ['P[A.B]', 'P[B.B]']\n",
    "\n",
    "# Generate all permutations\n",
    "permutations = list(product(replacements_A, replacements_B))\n",
    "\n",
    "# Create a list of strings with permutations\n",
    "for p in permutations:\n",
    "    print(p)\n",
    "result_strings = [template_string.replace('P[-.A]', p[0]).replace('P[-.B]', p[1]) for p in permutations]\n",
    "\n",
    "# Print the result\n",
    "for idx, result_string in enumerate(result_strings, start=1):\n",
    "    print(f'{idx}: {result_string}')\n"
   ]
  },
  {
   "cell_type": "code",
   "execution_count": null,
   "metadata": {},
   "outputs": [],
   "source": []
  }
 ],
 "metadata": {
  "kernelspec": {
   "display_name": "kinetics",
   "language": "python",
   "name": "python3"
  },
  "language_info": {
   "codemirror_mode": {
    "name": "ipython",
    "version": 3
   },
   "file_extension": ".py",
   "mimetype": "text/x-python",
   "name": "python",
   "nbconvert_exporter": "python",
   "pygments_lexer": "ipython3",
   "version": "3.11.5"
  }
 },
 "nbformat": 4,
 "nbformat_minor": 2
}
