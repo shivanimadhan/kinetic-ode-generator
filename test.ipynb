{
 "cells": [
  {
   "cell_type": "code",
   "execution_count": 31,
   "metadata": {},
   "outputs": [
    {
     "name": "stdout",
     "output_type": "stream",
     "text": [
      "The autoreload extension is already loaded. To reload it, use:\n",
      "  %reload_ext autoreload\n"
     ]
    }
   ],
   "source": [
    "%load_ext autoreload\n",
    "%autoreload 2\n",
    "from parse.parse_reactions import ReactionParser\n",
    "from parse.parse_species import parse_species_string, parse_all_species\n",
    "from parse.parse_rate_constant import RateConstantParser\n",
    "from parse.parse_input import separate_input_file, parse_args_kwargs"
   ]
  },
  {
   "cell_type": "code",
   "execution_count": 32,
   "metadata": {},
   "outputs": [
    {
     "name": "stdout",
     "output_type": "stream",
     "text": [
      "{'general': [], 'species': [], 'rate constants': [], 'reactions': []}\n",
      "[Species(name='I', type=<SpeciesType.UNIT: 1>, FW=50.0, c0=0.005), Species(name='R', type=<SpeciesType.UNIT: 1>, FW=25.0, c0=0.0), Species(name='A', type=<SpeciesType.UNIT: 1>, FW=100.0, c0=1.5), Species(name='B', type=<SpeciesType.UNIT: 1>, FW=200.0, c0=1.5), Species(name='P[R.A]', type=<SpeciesType.POLY: 2>, FW=1.0, c0=0.0), Species(name='P[R.B]', type=<SpeciesType.POLY: 2>, FW=1.0, c0=0.0), Species(name='P[A.A]', type=<SpeciesType.POLY: 2>, FW=1.0, c0=0.0), Species(name='P[A.B]', type=<SpeciesType.POLY: 2>, FW=1.0, c0=0.0), Species(name='P[B.A]', type=<SpeciesType.POLY: 2>, FW=1.0, c0=0.0), Species(name='P[B.B]', type=<SpeciesType.POLY: 2>, FW=1.0, c0=0.0), Species(name='D', type=<SpeciesType.POLY: 2>, FW=1.0, c0=0.0)]\n",
      "[EquivalentSpecies(name='P[-.A]', type=<SpeciesType.POLY: 2>, eq=['P[A.A]', 'P[B.A]']), EquivalentSpecies(name='P[-.B]', type=<SpeciesType.POLY: 2>, eq=['P[A.B]', 'P[B.B]'])]\n"
     ]
    }
   ],
   "source": [
    "sections = separate_input_file('input/sample_input.txt')\n",
    "species_section = sections['species']\n",
    "species, equivalent_species = parse_all_species(species_section)\n",
    "print(species)\n",
    "print(equivalent_species)"
   ]
  },
  {
   "cell_type": "code",
   "execution_count": 33,
   "metadata": {},
   "outputs": [
    {
     "data": {
      "text/plain": [
       "Species(name='I', type=<SpeciesType.UNIT: 1>, FW=50.0, c0=0.005)"
      ]
     },
     "execution_count": 33,
     "metadata": {},
     "output_type": "execute_result"
    }
   ],
   "source": [
    "species_string = 'U I      c0=0.005 FW=50.0'\n",
    "parse_species_string(species_string)"
   ]
  },
  {
   "cell_type": "code",
   "execution_count": 34,
   "metadata": {},
   "outputs": [],
   "source": [
    "constants_section = sections['rate constants']\n",
    "rcp = RateConstantParser()\n",
    "rcp.parse_all_constants(constants_section)"
   ]
  },
  {
   "cell_type": "code",
   "execution_count": 35,
   "metadata": {},
   "outputs": [
    {
     "data": {
      "text/plain": [
       "('PR',\n",
       " [ReactionSpecies(species=Species(name='P[A.A]', type=<SpeciesType.POLY: 2>, FW=1.0, c0=0.0), coeff=23),\n",
       "  ReactionSpecies(species=Species(name='B', type=<SpeciesType.UNIT: 1>, FW=200.0, c0=1.5), coeff=1)],\n",
       " [ReactionSpecies(species=Species(name='P[A.B]', type=<SpeciesType.POLY: 2>, FW=1.0, c0=0.0), coeff=5)],\n",
       " ['kpAAB'], {'k': 1000.0})"
      ]
     },
     "execution_count": 35,
     "metadata": {},
     "output_type": "execute_result"
    }
   ],
   "source": [
    "reaction_string = 'PR 23P[A.A] + B -kpAAB-> 5P[A.B]'\n",
    "rp = ReactionParser(species, equivalent_species, rcp)\n",
    "rp.parse_reaction_string(reaction_string)"
   ]
  },
  {
   "cell_type": "code",
   "execution_count": 36,
   "metadata": {},
   "outputs": [
    {
     "name": "stdout",
     "output_type": "stream",
     "text": [
      "[Rate Constant:['kd'], {'k': 100000.0, 'f': 0.5},\n",
      "Unit Reactant Species: [ReactionSpecies(species=Species(name='I', type=<SpeciesType.UNIT: 1>, FW=50.0, c0=0.005), coeff=1)],\n",
      "Poly Reactant Species: [],\n",
      "Unit Product Species: [ReactionSpecies(species=Species(name='R', type=<SpeciesType.UNIT: 1>, FW=25.0, c0=0.0), coeff=2)],\n",
      "Poly Product Species: []\n",
      "\n",
      ", Rate Constant:['kpAAA'], {'k': 1000.0},\n",
      "Unit Reactant Species: [ReactionSpecies(species=Species(name='R', type=<SpeciesType.UNIT: 1>, FW=25.0, c0=0.0), coeff=1), ReactionSpecies(species=Species(name='A', type=<SpeciesType.UNIT: 1>, FW=100.0, c0=1.5), coeff=1)],\n",
      "Poly Reactant Species: [],\n",
      "Unit Product Species: [],\n",
      "Poly Product Species: [ReactionSpecies(species=Species(name='P[R.A]', type=<SpeciesType.POLY: 2>, FW=1.0, c0=0.0), coeff=1)]\n",
      "\n",
      ", Rate Constant:['kpBBB'], {'k': 1000.0},\n",
      "Unit Reactant Species: [ReactionSpecies(species=Species(name='R', type=<SpeciesType.UNIT: 1>, FW=25.0, c0=0.0), coeff=1), ReactionSpecies(species=Species(name='B', type=<SpeciesType.UNIT: 1>, FW=200.0, c0=1.5), coeff=1)],\n",
      "Poly Reactant Species: [],\n",
      "Unit Product Species: [],\n",
      "Poly Product Species: [ReactionSpecies(species=Species(name='P[R.B]', type=<SpeciesType.POLY: 2>, FW=1.0, c0=0.0), coeff=1)]\n",
      "\n",
      ", Rate Constant:['kpAAA'], {'k': 1000.0},\n",
      "Unit Reactant Species: [ReactionSpecies(species=Species(name='A', type=<SpeciesType.UNIT: 1>, FW=100.0, c0=1.5), coeff=1)],\n",
      "Poly Reactant Species: [ReactionSpecies(species=Species(name='P[R.A]', type=<SpeciesType.POLY: 2>, FW=1.0, c0=0.0), coeff=1)],\n",
      "Unit Product Species: [],\n",
      "Poly Product Species: [ReactionSpecies(species=Species(name='P[A.A]', type=<SpeciesType.POLY: 2>, FW=1.0, c0=0.0), coeff=1)]\n",
      "\n",
      ", Rate Constant:['kpAAB'], {'k': 1000.0},\n",
      "Unit Reactant Species: [ReactionSpecies(species=Species(name='B', type=<SpeciesType.UNIT: 1>, FW=200.0, c0=1.5), coeff=1)],\n",
      "Poly Reactant Species: [ReactionSpecies(species=Species(name='P[R.A]', type=<SpeciesType.POLY: 2>, FW=1.0, c0=0.0), coeff=1)],\n",
      "Unit Product Species: [],\n",
      "Poly Product Species: [ReactionSpecies(species=Species(name='P[A.B]', type=<SpeciesType.POLY: 2>, FW=1.0, c0=0.0), coeff=1)]\n",
      "\n",
      ", Rate Constant:['kpBBA'], {'k': 1000.0},\n",
      "Unit Reactant Species: [ReactionSpecies(species=Species(name='A', type=<SpeciesType.UNIT: 1>, FW=100.0, c0=1.5), coeff=1)],\n",
      "Poly Reactant Species: [ReactionSpecies(species=Species(name='P[R.B]', type=<SpeciesType.POLY: 2>, FW=1.0, c0=0.0), coeff=1)],\n",
      "Unit Product Species: [],\n",
      "Poly Product Species: [ReactionSpecies(species=Species(name='P[B.A]', type=<SpeciesType.POLY: 2>, FW=1.0, c0=0.0), coeff=1)]\n",
      "\n",
      ", Rate Constant:['kpBBB'], {'k': 1000.0},\n",
      "Unit Reactant Species: [ReactionSpecies(species=Species(name='B', type=<SpeciesType.UNIT: 1>, FW=200.0, c0=1.5), coeff=1)],\n",
      "Poly Reactant Species: [ReactionSpecies(species=Species(name='P[R.B]', type=<SpeciesType.POLY: 2>, FW=1.0, c0=0.0), coeff=1)],\n",
      "Unit Product Species: [],\n",
      "Poly Product Species: [ReactionSpecies(species=Species(name='P[B.B]', type=<SpeciesType.POLY: 2>, FW=1.0, c0=0.0), coeff=1)]\n",
      "\n",
      ", Rate Constant:['kpAAA'], {'k': 1000.0},\n",
      "Unit Reactant Species: [ReactionSpecies(species=Species(name='A', type=<SpeciesType.UNIT: 1>, FW=100.0, c0=1.5), coeff=1)],\n",
      "Poly Reactant Species: [ReactionSpecies(species=Species(name='P[A.A]', type=<SpeciesType.POLY: 2>, FW=1.0, c0=0.0), coeff=1)],\n",
      "Unit Product Species: [],\n",
      "Poly Product Species: [ReactionSpecies(species=Species(name='P[A.A]', type=<SpeciesType.POLY: 2>, FW=1.0, c0=0.0), coeff=1)]\n",
      "\n",
      ", Rate Constant:['kpAAB'], {'k': 1000.0},\n",
      "Unit Reactant Species: [ReactionSpecies(species=Species(name='B', type=<SpeciesType.UNIT: 1>, FW=200.0, c0=1.5), coeff=1)],\n",
      "Poly Reactant Species: [ReactionSpecies(species=Species(name='P[A.A]', type=<SpeciesType.POLY: 2>, FW=1.0, c0=0.0), coeff=1)],\n",
      "Unit Product Species: [],\n",
      "Poly Product Species: [ReactionSpecies(species=Species(name='P[A.B]', type=<SpeciesType.POLY: 2>, FW=1.0, c0=0.0), coeff=1)]\n",
      "\n",
      ", Rate Constant:['kpABA'], {'k': 1000.0},\n",
      "Unit Reactant Species: [ReactionSpecies(species=Species(name='A', type=<SpeciesType.UNIT: 1>, FW=100.0, c0=1.5), coeff=1)],\n",
      "Poly Reactant Species: [ReactionSpecies(species=Species(name='P[A.B]', type=<SpeciesType.POLY: 2>, FW=1.0, c0=0.0), coeff=1)],\n",
      "Unit Product Species: [],\n",
      "Poly Product Species: [ReactionSpecies(species=Species(name='P[B.A]', type=<SpeciesType.POLY: 2>, FW=1.0, c0=0.0), coeff=1)]\n",
      "\n",
      ", Rate Constant:['kpABB'], {'k': 1000.0},\n",
      "Unit Reactant Species: [ReactionSpecies(species=Species(name='B', type=<SpeciesType.UNIT: 1>, FW=200.0, c0=1.5), coeff=1)],\n",
      "Poly Reactant Species: [ReactionSpecies(species=Species(name='P[A.B]', type=<SpeciesType.POLY: 2>, FW=1.0, c0=0.0), coeff=1)],\n",
      "Unit Product Species: [],\n",
      "Poly Product Species: [ReactionSpecies(species=Species(name='P[B.B]', type=<SpeciesType.POLY: 2>, FW=1.0, c0=0.0), coeff=1)]\n",
      "\n",
      ", Rate Constant:['kpBAA'], {'k': 1000.0},\n",
      "Unit Reactant Species: [ReactionSpecies(species=Species(name='A', type=<SpeciesType.UNIT: 1>, FW=100.0, c0=1.5), coeff=1)],\n",
      "Poly Reactant Species: [ReactionSpecies(species=Species(name='P[B.A]', type=<SpeciesType.POLY: 2>, FW=1.0, c0=0.0), coeff=1)],\n",
      "Unit Product Species: [],\n",
      "Poly Product Species: [ReactionSpecies(species=Species(name='P[A.A]', type=<SpeciesType.POLY: 2>, FW=1.0, c0=0.0), coeff=1)]\n",
      "\n",
      ", Rate Constant:['kpBAB'], {'k': 1000.0},\n",
      "Unit Reactant Species: [ReactionSpecies(species=Species(name='B', type=<SpeciesType.UNIT: 1>, FW=200.0, c0=1.5), coeff=1)],\n",
      "Poly Reactant Species: [ReactionSpecies(species=Species(name='P[B.A]', type=<SpeciesType.POLY: 2>, FW=1.0, c0=0.0), coeff=1)],\n",
      "Unit Product Species: [],\n",
      "Poly Product Species: [ReactionSpecies(species=Species(name='P[A.B]', type=<SpeciesType.POLY: 2>, FW=1.0, c0=0.0), coeff=1)]\n",
      "\n",
      ", Rate Constant:['kpBBA'], {'k': 1000.0},\n",
      "Unit Reactant Species: [ReactionSpecies(species=Species(name='A', type=<SpeciesType.UNIT: 1>, FW=100.0, c0=1.5), coeff=1)],\n",
      "Poly Reactant Species: [ReactionSpecies(species=Species(name='P[B.B]', type=<SpeciesType.POLY: 2>, FW=1.0, c0=0.0), coeff=1)],\n",
      "Unit Product Species: [],\n",
      "Poly Product Species: [ReactionSpecies(species=Species(name='P[B.A]', type=<SpeciesType.POLY: 2>, FW=1.0, c0=0.0), coeff=1)]\n",
      "\n",
      ", Rate Constant:['kpBBB'], {'k': 1000.0},\n",
      "Unit Reactant Species: [ReactionSpecies(species=Species(name='B', type=<SpeciesType.UNIT: 1>, FW=200.0, c0=1.5), coeff=1)],\n",
      "Poly Reactant Species: [ReactionSpecies(species=Species(name='P[B.B]', type=<SpeciesType.POLY: 2>, FW=1.0, c0=0.0), coeff=1)],\n",
      "Unit Product Species: [],\n",
      "Poly Product Species: [ReactionSpecies(species=Species(name='P[B.B]', type=<SpeciesType.POLY: 2>, FW=1.0, c0=0.0), coeff=1)]\n",
      "\n",
      ", Rate Constant:None,\n",
      "Unit Reactant Species: [],\n",
      "Poly Reactant Species: [ReactionSpecies(species=Species(name='P[B.B]', type=<SpeciesType.POLY: 2>, FW=1.0, c0=0.0), coeff=1)],\n",
      "Unit Product Species: [ReactionSpecies(species=Species(name='B', type=<SpeciesType.UNIT: 1>, FW=200.0, c0=1.5), coeff=1)],\n",
      "Poly Product Species: [ReactionSpecies(species=Species(name='P[A.B]', type=<SpeciesType.POLY: 2>, FW=1.0, c0=0.0), coeff=1)]\n",
      "\n",
      ", Rate Constant:None,\n",
      "Unit Reactant Species: [],\n",
      "Poly Reactant Species: [ReactionSpecies(species=Species(name='P[B.B]', type=<SpeciesType.POLY: 2>, FW=1.0, c0=0.0), coeff=1)],\n",
      "Unit Product Species: [ReactionSpecies(species=Species(name='B', type=<SpeciesType.UNIT: 1>, FW=200.0, c0=1.5), coeff=1)],\n",
      "Poly Product Species: [ReactionSpecies(species=Species(name='P[B.B]', type=<SpeciesType.POLY: 2>, FW=1.0, c0=0.0), coeff=1)]\n",
      "\n",
      ", Rate Constant:['ktcAA'], {'k': 1000.0},\n",
      "Unit Reactant Species: [],\n",
      "Poly Reactant Species: [ReactionSpecies(species=Species(name='P[A.A]', type=<SpeciesType.POLY: 2>, FW=1.0, c0=0.0), coeff=1), ReactionSpecies(species=Species(name='P[A.A]', type=<SpeciesType.POLY: 2>, FW=1.0, c0=0.0), coeff=1)],\n",
      "Unit Product Species: [],\n",
      "Poly Product Species: [ReactionSpecies(species=Species(name='D', type=<SpeciesType.POLY: 2>, FW=1.0, c0=0.0), coeff=1)]\n",
      "\n",
      ", Rate Constant:['ktcAA'], {'k': 1000.0},\n",
      "Unit Reactant Species: [],\n",
      "Poly Reactant Species: [ReactionSpecies(species=Species(name='P[A.A]', type=<SpeciesType.POLY: 2>, FW=1.0, c0=0.0), coeff=1), ReactionSpecies(species=Species(name='P[B.A]', type=<SpeciesType.POLY: 2>, FW=1.0, c0=0.0), coeff=1)],\n",
      "Unit Product Species: [],\n",
      "Poly Product Species: [ReactionSpecies(species=Species(name='D', type=<SpeciesType.POLY: 2>, FW=1.0, c0=0.0), coeff=1)]\n",
      "\n",
      ", Rate Constant:['ktcAA'], {'k': 1000.0},\n",
      "Unit Reactant Species: [],\n",
      "Poly Reactant Species: [ReactionSpecies(species=Species(name='P[B.A]', type=<SpeciesType.POLY: 2>, FW=1.0, c0=0.0), coeff=1), ReactionSpecies(species=Species(name='P[B.A]', type=<SpeciesType.POLY: 2>, FW=1.0, c0=0.0), coeff=1)],\n",
      "Unit Product Species: [],\n",
      "Poly Product Species: [ReactionSpecies(species=Species(name='D', type=<SpeciesType.POLY: 2>, FW=1.0, c0=0.0), coeff=1)]\n",
      "\n",
      ", Rate Constant:['ktcAB'], {'k': 1000.0},\n",
      "Unit Reactant Species: [],\n",
      "Poly Reactant Species: [ReactionSpecies(species=Species(name='P[A.A]', type=<SpeciesType.POLY: 2>, FW=1.0, c0=0.0), coeff=1), ReactionSpecies(species=Species(name='P[A.B]', type=<SpeciesType.POLY: 2>, FW=1.0, c0=0.0), coeff=1)],\n",
      "Unit Product Species: [],\n",
      "Poly Product Species: [ReactionSpecies(species=Species(name='D', type=<SpeciesType.POLY: 2>, FW=1.0, c0=0.0), coeff=1)]\n",
      "\n",
      ", Rate Constant:['ktcAB'], {'k': 1000.0},\n",
      "Unit Reactant Species: [],\n",
      "Poly Reactant Species: [ReactionSpecies(species=Species(name='P[A.A]', type=<SpeciesType.POLY: 2>, FW=1.0, c0=0.0), coeff=1), ReactionSpecies(species=Species(name='P[B.B]', type=<SpeciesType.POLY: 2>, FW=1.0, c0=0.0), coeff=1)],\n",
      "Unit Product Species: [],\n",
      "Poly Product Species: [ReactionSpecies(species=Species(name='D', type=<SpeciesType.POLY: 2>, FW=1.0, c0=0.0), coeff=1)]\n",
      "\n",
      ", Rate Constant:['ktcAB'], {'k': 1000.0},\n",
      "Unit Reactant Species: [],\n",
      "Poly Reactant Species: [ReactionSpecies(species=Species(name='P[B.A]', type=<SpeciesType.POLY: 2>, FW=1.0, c0=0.0), coeff=1), ReactionSpecies(species=Species(name='P[A.B]', type=<SpeciesType.POLY: 2>, FW=1.0, c0=0.0), coeff=1)],\n",
      "Unit Product Species: [],\n",
      "Poly Product Species: [ReactionSpecies(species=Species(name='D', type=<SpeciesType.POLY: 2>, FW=1.0, c0=0.0), coeff=1)]\n",
      "\n",
      ", Rate Constant:['ktcAB'], {'k': 1000.0},\n",
      "Unit Reactant Species: [],\n",
      "Poly Reactant Species: [ReactionSpecies(species=Species(name='P[B.A]', type=<SpeciesType.POLY: 2>, FW=1.0, c0=0.0), coeff=1), ReactionSpecies(species=Species(name='P[B.B]', type=<SpeciesType.POLY: 2>, FW=1.0, c0=0.0), coeff=1)],\n",
      "Unit Product Species: [],\n",
      "Poly Product Species: [ReactionSpecies(species=Species(name='D', type=<SpeciesType.POLY: 2>, FW=1.0, c0=0.0), coeff=1)]\n",
      "\n",
      ", Rate Constant:['ktcBB'], {'k': 1000.0},\n",
      "Unit Reactant Species: [],\n",
      "Poly Reactant Species: [ReactionSpecies(species=Species(name='P[A.B]', type=<SpeciesType.POLY: 2>, FW=1.0, c0=0.0), coeff=1), ReactionSpecies(species=Species(name='P[A.B]', type=<SpeciesType.POLY: 2>, FW=1.0, c0=0.0), coeff=1)],\n",
      "Unit Product Species: [],\n",
      "Poly Product Species: [ReactionSpecies(species=Species(name='D', type=<SpeciesType.POLY: 2>, FW=1.0, c0=0.0), coeff=1)]\n",
      "\n",
      ", Rate Constant:['ktcBB'], {'k': 1000.0},\n",
      "Unit Reactant Species: [],\n",
      "Poly Reactant Species: [ReactionSpecies(species=Species(name='P[A.B]', type=<SpeciesType.POLY: 2>, FW=1.0, c0=0.0), coeff=1), ReactionSpecies(species=Species(name='P[B.B]', type=<SpeciesType.POLY: 2>, FW=1.0, c0=0.0), coeff=1)],\n",
      "Unit Product Species: [],\n",
      "Poly Product Species: [ReactionSpecies(species=Species(name='D', type=<SpeciesType.POLY: 2>, FW=1.0, c0=0.0), coeff=1)]\n",
      "\n",
      ", Rate Constant:['ktcBB'], {'k': 1000.0},\n",
      "Unit Reactant Species: [],\n",
      "Poly Reactant Species: [ReactionSpecies(species=Species(name='P[B.B]', type=<SpeciesType.POLY: 2>, FW=1.0, c0=0.0), coeff=1), ReactionSpecies(species=Species(name='P[B.B]', type=<SpeciesType.POLY: 2>, FW=1.0, c0=0.0), coeff=1)],\n",
      "Unit Product Species: [],\n",
      "Poly Product Species: [ReactionSpecies(species=Species(name='D', type=<SpeciesType.POLY: 2>, FW=1.0, c0=0.0), coeff=1)]\n",
      "\n",
      ", Rate Constant:['ktcAA'], {'k': 1000.0},\n",
      "Unit Reactant Species: [],\n",
      "Poly Reactant Species: [ReactionSpecies(species=Species(name='P[A.A]', type=<SpeciesType.POLY: 2>, FW=1.0, c0=0.0), coeff=1), ReactionSpecies(species=Species(name='P[A.A]', type=<SpeciesType.POLY: 2>, FW=1.0, c0=0.0), coeff=1)],\n",
      "Unit Product Species: [],\n",
      "Poly Product Species: [ReactionSpecies(species=Species(name='D', type=<SpeciesType.POLY: 2>, FW=1.0, c0=0.0), coeff=2)]\n",
      "\n",
      ", Rate Constant:['ktcAA'], {'k': 1000.0},\n",
      "Unit Reactant Species: [],\n",
      "Poly Reactant Species: [ReactionSpecies(species=Species(name='P[A.A]', type=<SpeciesType.POLY: 2>, FW=1.0, c0=0.0), coeff=1), ReactionSpecies(species=Species(name='P[B.A]', type=<SpeciesType.POLY: 2>, FW=1.0, c0=0.0), coeff=1)],\n",
      "Unit Product Species: [],\n",
      "Poly Product Species: [ReactionSpecies(species=Species(name='D', type=<SpeciesType.POLY: 2>, FW=1.0, c0=0.0), coeff=2)]\n",
      "\n",
      ", Rate Constant:['ktcAA'], {'k': 1000.0},\n",
      "Unit Reactant Species: [],\n",
      "Poly Reactant Species: [ReactionSpecies(species=Species(name='P[B.A]', type=<SpeciesType.POLY: 2>, FW=1.0, c0=0.0), coeff=1), ReactionSpecies(species=Species(name='P[B.A]', type=<SpeciesType.POLY: 2>, FW=1.0, c0=0.0), coeff=1)],\n",
      "Unit Product Species: [],\n",
      "Poly Product Species: [ReactionSpecies(species=Species(name='D', type=<SpeciesType.POLY: 2>, FW=1.0, c0=0.0), coeff=2)]\n",
      "\n",
      ", Rate Constant:['ktcAB'], {'k': 1000.0},\n",
      "Unit Reactant Species: [],\n",
      "Poly Reactant Species: [ReactionSpecies(species=Species(name='P[A.A]', type=<SpeciesType.POLY: 2>, FW=1.0, c0=0.0), coeff=1), ReactionSpecies(species=Species(name='P[A.B]', type=<SpeciesType.POLY: 2>, FW=1.0, c0=0.0), coeff=1)],\n",
      "Unit Product Species: [],\n",
      "Poly Product Species: [ReactionSpecies(species=Species(name='D', type=<SpeciesType.POLY: 2>, FW=1.0, c0=0.0), coeff=2)]\n",
      "\n",
      ", Rate Constant:['ktcAB'], {'k': 1000.0},\n",
      "Unit Reactant Species: [],\n",
      "Poly Reactant Species: [ReactionSpecies(species=Species(name='P[A.A]', type=<SpeciesType.POLY: 2>, FW=1.0, c0=0.0), coeff=1), ReactionSpecies(species=Species(name='P[B.B]', type=<SpeciesType.POLY: 2>, FW=1.0, c0=0.0), coeff=1)],\n",
      "Unit Product Species: [],\n",
      "Poly Product Species: [ReactionSpecies(species=Species(name='D', type=<SpeciesType.POLY: 2>, FW=1.0, c0=0.0), coeff=2)]\n",
      "\n",
      ", Rate Constant:['ktcAB'], {'k': 1000.0},\n",
      "Unit Reactant Species: [],\n",
      "Poly Reactant Species: [ReactionSpecies(species=Species(name='P[B.A]', type=<SpeciesType.POLY: 2>, FW=1.0, c0=0.0), coeff=1), ReactionSpecies(species=Species(name='P[A.B]', type=<SpeciesType.POLY: 2>, FW=1.0, c0=0.0), coeff=1)],\n",
      "Unit Product Species: [],\n",
      "Poly Product Species: [ReactionSpecies(species=Species(name='D', type=<SpeciesType.POLY: 2>, FW=1.0, c0=0.0), coeff=2)]\n",
      "\n",
      ", Rate Constant:['ktcAB'], {'k': 1000.0},\n",
      "Unit Reactant Species: [],\n",
      "Poly Reactant Species: [ReactionSpecies(species=Species(name='P[B.A]', type=<SpeciesType.POLY: 2>, FW=1.0, c0=0.0), coeff=1), ReactionSpecies(species=Species(name='P[B.B]', type=<SpeciesType.POLY: 2>, FW=1.0, c0=0.0), coeff=1)],\n",
      "Unit Product Species: [],\n",
      "Poly Product Species: [ReactionSpecies(species=Species(name='D', type=<SpeciesType.POLY: 2>, FW=1.0, c0=0.0), coeff=2)]\n",
      "\n",
      ", Rate Constant:['ktcBB'], {'k': 1000.0},\n",
      "Unit Reactant Species: [],\n",
      "Poly Reactant Species: [ReactionSpecies(species=Species(name='P[A.B]', type=<SpeciesType.POLY: 2>, FW=1.0, c0=0.0), coeff=1), ReactionSpecies(species=Species(name='P[A.B]', type=<SpeciesType.POLY: 2>, FW=1.0, c0=0.0), coeff=1)],\n",
      "Unit Product Species: [],\n",
      "Poly Product Species: [ReactionSpecies(species=Species(name='D', type=<SpeciesType.POLY: 2>, FW=1.0, c0=0.0), coeff=2)]\n",
      "\n",
      ", Rate Constant:['ktcBB'], {'k': 1000.0},\n",
      "Unit Reactant Species: [],\n",
      "Poly Reactant Species: [ReactionSpecies(species=Species(name='P[A.B]', type=<SpeciesType.POLY: 2>, FW=1.0, c0=0.0), coeff=1), ReactionSpecies(species=Species(name='P[B.B]', type=<SpeciesType.POLY: 2>, FW=1.0, c0=0.0), coeff=1)],\n",
      "Unit Product Species: [],\n",
      "Poly Product Species: [ReactionSpecies(species=Species(name='D', type=<SpeciesType.POLY: 2>, FW=1.0, c0=0.0), coeff=2)]\n",
      "\n",
      ", Rate Constant:['ktcBB'], {'k': 1000.0},\n",
      "Unit Reactant Species: [],\n",
      "Poly Reactant Species: [ReactionSpecies(species=Species(name='P[B.B]', type=<SpeciesType.POLY: 2>, FW=1.0, c0=0.0), coeff=1), ReactionSpecies(species=Species(name='P[B.B]', type=<SpeciesType.POLY: 2>, FW=1.0, c0=0.0), coeff=1)],\n",
      "Unit Product Species: [],\n",
      "Poly Product Species: [ReactionSpecies(species=Species(name='D', type=<SpeciesType.POLY: 2>, FW=1.0, c0=0.0), coeff=2)]\n",
      "\n",
      "]\n"
     ]
    }
   ],
   "source": [
    "reactions_section = sections['reactions']\n",
    "all_reactions = rp.parse_all_reactions(reactions_section)\n",
    "print(all_reactions)"
   ]
  },
  {
   "cell_type": "code",
   "execution_count": 37,
   "metadata": {},
   "outputs": [
    {
     "data": {
      "text/plain": [
       "['ktdBB'], {'A': 100000.0, 'E': 0.001}"
      ]
     },
     "execution_count": 37,
     "metadata": {},
     "output_type": "execute_result"
    }
   ],
   "source": [
    "str = \"ktdBB A=1e5 E=1e-3\"\n",
    "r = rcp.parse_constants_string(str)\n",
    "r\n"
   ]
  },
  {
   "cell_type": "code",
   "execution_count": 38,
   "metadata": {},
   "outputs": [
    {
     "name": "stdout",
     "output_type": "stream",
     "text": [
      "['kpAAA'], {'k': 1000.0}\n"
     ]
    }
   ],
   "source": [
    "c = rcp.parse_reaction_constant(\"PR P[R.A] + A -kpAAA-> P[A.A]\")\n",
    "print(c)"
   ]
  },
  {
   "cell_type": "code",
   "execution_count": 39,
   "metadata": {},
   "outputs": [
    {
     "name": "stdout",
     "output_type": "stream",
     "text": [
      "('P[A.A]', 'P[A.B]')\n",
      "('P[A.A]', 'P[B.B]')\n",
      "('P[B.A]', 'P[A.B]')\n",
      "('P[B.A]', 'P[B.B]')\n",
      "1: P[A.A] + P[A.B] -kpABC-> D\n",
      "2: P[A.A] + P[B.B] -kpABC-> D\n",
      "3: P[B.A] + P[A.B] -kpABC-> D\n",
      "4: P[B.A] + P[B.B] -kpABC-> D\n"
     ]
    }
   ],
   "source": [
    "from itertools import product\n",
    "\n",
    "# Given string format\n",
    "template_string = 'P[-.A] + P[-.B] -kpABC-> D'\n",
    "\n",
    "# Define possible replacements for \"P[-.A]\" and \"P[-.B]\"\n",
    "replacements_A = ['P[A.A]', 'P[B.A]']\n",
    "replacements_B = ['P[A.B]', 'P[B.B]']\n",
    "\n",
    "# Generate all permutations\n",
    "permutations = list(product(replacements_A, replacements_B))\n",
    "\n",
    "# Create a list of strings with permutations\n",
    "for p in permutations:\n",
    "    print(p)\n",
    "result_strings = [template_string.replace('P[-.A]', p[0]).replace('P[-.B]', p[1]) for p in permutations]\n",
    "\n",
    "# Print the result\n",
    "for idx, result_string in enumerate(result_strings, start=1):\n",
    "    print(f'{idx}: {result_string}')\n"
   ]
  },
  {
   "cell_type": "code",
   "execution_count": 40,
   "metadata": {},
   "outputs": [
    {
     "data": {
      "text/plain": [
       "['ID I -kd-> 2R',\n",
       " 'IN R + A -kpAAA-> P[R.A]',\n",
       " 'IN R + B -kpBBB-> P[R.B]',\n",
       " 'PR P[R.A] + A -kpAAA-> P[A.A]',\n",
       " 'PR P[R.A] + B -kpAAB-> P[A.B]',\n",
       " 'PR P[R.B] + A -kpBBA-> P[B.A]',\n",
       " 'PR P[R.B] + B -kpBBB-> P[B.B]',\n",
       " 'PR P[A.A] + A -kpAAA-> P[A.A]',\n",
       " 'PR P[A.A] + B -kpAAB-> P[A.B]',\n",
       " 'PR P[A.B] + A -kpABA-> P[B.A]',\n",
       " 'PR P[A.B] + B -kpABB-> P[B.B]',\n",
       " 'PR P[B.A] + A -kpBAA-> P[A.A]',\n",
       " 'PR P[B.A] + B -kpBAB-> P[A.B]',\n",
       " 'PR P[B.B] + A -kpBBA-> P[B.A]',\n",
       " 'PR P[B.B] + B -kpBBB-> P[B.B]',\n",
       " 'DP P[B.B] -kdBB-> P[A.B] + B',\n",
       " 'DP P[B.B] -kdBB-> P[B.B] + B',\n",
       " 'TC P[A.A] + P[A.A] -ktcAA-> D',\n",
       " 'TC P[A.A] + P[B.A] -ktcAA-> D',\n",
       " 'TC P[B.A] + P[A.A] -ktcAA-> D',\n",
       " 'TC P[B.A] + P[B.A] -ktcAA-> D',\n",
       " 'TC P[A.A] + P[A.B] -ktcAB-> D',\n",
       " 'TC P[A.A] + P[B.B] -ktcAB-> D',\n",
       " 'TC P[B.A] + P[A.B] -ktcAB-> D',\n",
       " 'TC P[B.A] + P[B.B] -ktcAB-> D',\n",
       " 'TC P[A.B] + P[A.B] -ktcBB-> D',\n",
       " 'TC P[A.B] + P[B.B] -ktcBB-> D',\n",
       " 'TC P[B.B] + P[A.B] -ktcBB-> D',\n",
       " 'TC P[B.B] + P[B.B] -ktcBB-> D',\n",
       " 'TD P[A.A] + P[A.A] -ktcAA-> 2D',\n",
       " 'TD P[A.A] + P[B.A] -ktcAA-> 2D',\n",
       " 'TD P[B.A] + P[A.A] -ktcAA-> 2D',\n",
       " 'TD P[B.A] + P[B.A] -ktcAA-> 2D',\n",
       " 'TD P[A.A] + P[A.B] -ktcAB-> 2D',\n",
       " 'TD P[A.A] + P[B.B] -ktcAB-> 2D',\n",
       " 'TD P[B.A] + P[A.B] -ktcAB-> 2D',\n",
       " 'TD P[B.A] + P[B.B] -ktcAB-> 2D',\n",
       " 'TD P[A.B] + P[A.B] -ktcBB-> 2D',\n",
       " 'TD P[A.B] + P[B.B] -ktcBB-> 2D',\n",
       " 'TD P[B.B] + P[A.B] -ktcBB-> 2D',\n",
       " 'TD P[B.B] + P[B.B] -ktcBB-> 2D']"
      ]
     },
     "execution_count": 40,
     "metadata": {},
     "output_type": "execute_result"
    }
   ],
   "source": [
    "rp.modify_reactions_section(reactions_section)"
   ]
  }
 ],
 "metadata": {
  "kernelspec": {
   "display_name": "kinetics",
   "language": "python",
   "name": "python3"
  },
  "language_info": {
   "codemirror_mode": {
    "name": "ipython",
    "version": 3
   },
   "file_extension": ".py",
   "mimetype": "text/x-python",
   "name": "python",
   "nbconvert_exporter": "python",
   "pygments_lexer": "ipython3",
   "version": "3.11.5"
  }
 },
 "nbformat": 4,
 "nbformat_minor": 2
}
