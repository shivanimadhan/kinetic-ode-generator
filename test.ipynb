{
 "cells": [
  {
   "cell_type": "code",
   "execution_count": 19,
   "metadata": {},
   "outputs": [
    {
     "name": "stdout",
     "output_type": "stream",
     "text": [
      "The autoreload extension is already loaded. To reload it, use:\n",
      "  %reload_ext autoreload\n"
     ]
    }
   ],
   "source": [
    "%load_ext autoreload\n",
    "%autoreload 2\n",
    "from parse.parse_reactions import parse_reaction_string, parse_all_reactions\n",
    "from parse.parse_species import parse_species_string, parse_all_species\n",
    "from parse.parse_rate_constant import parse_all_constants, parse_constants_string, parse_reaction_constant\n",
    "from parse.parse_input import separate_input_file, parse_args_kwargs"
   ]
  },
  {
   "cell_type": "code",
   "execution_count": 20,
   "metadata": {},
   "outputs": [
    {
     "name": "stdout",
     "output_type": "stream",
     "text": [
      "{'general': [], 'species': [], 'rate constants': [], 'reactions': []}\n",
      "[Species(name='I', type=<SpeciesType.UNIT: 1>, FW=50.0, c0=0.005), Species(name='R', type=<SpeciesType.UNIT: 1>, FW=25.0, c0=0.0), Species(name='A', type=<SpeciesType.UNIT: 1>, FW=100.0, c0=1.5), Species(name='B', type=<SpeciesType.UNIT: 1>, FW=200.0, c0=1.5), Species(name='P[R.A]', type=<SpeciesType.POLY: 2>, FW=1.0, c0=0.0), Species(name='P[R.B]', type=<SpeciesType.POLY: 2>, FW=1.0, c0=0.0), Species(name='P[A.A]', type=<SpeciesType.POLY: 2>, FW=1.0, c0=0.0), Species(name='P[A.B]', type=<SpeciesType.POLY: 2>, FW=1.0, c0=0.0), Species(name='P[B.A]', type=<SpeciesType.POLY: 2>, FW=1.0, c0=0.0), Species(name='P[B.B]', type=<SpeciesType.POLY: 2>, FW=1.0, c0=0.0), Species(name='D', type=<SpeciesType.POLY: 2>, FW=1.0, c0=0.0)]\n"
     ]
    }
   ],
   "source": [
    "sections = separate_input_file('input/sample_input.txt')\n",
    "species_section = sections['species']\n",
    "all_species, equivalent_species = parse_all_species(species_section)\n",
    "print(all_species)"
   ]
  },
  {
   "cell_type": "code",
   "execution_count": 21,
   "metadata": {},
   "outputs": [
    {
     "data": {
      "text/plain": [
       "Species(name='I', type=<SpeciesType.UNIT: 1>, FW=50.0, c0=0.005)"
      ]
     },
     "execution_count": 21,
     "metadata": {},
     "output_type": "execute_result"
    }
   ],
   "source": [
    "species_string = 'U I      c0=0.005 FW=50.0'\n",
    "parse_species_string(species_string)"
   ]
  },
  {
   "cell_type": "code",
   "execution_count": 22,
   "metadata": {},
   "outputs": [
    {
     "ename": "TypeError",
     "evalue": "RateConstant.__init__() missing 1 required positional argument: 'name'",
     "output_type": "error",
     "traceback": [
      "\u001b[0;31m---------------------------------------------------------------------------\u001b[0m",
      "\u001b[0;31mTypeError\u001b[0m                                 Traceback (most recent call last)",
      "\u001b[1;32m/Users/shivanimadhan/Documents/research/kinetic-ode-generator/test.ipynb Cell 4\u001b[0m line \u001b[0;36m2\n\u001b[1;32m      <a href='vscode-notebook-cell:/Users/shivanimadhan/Documents/research/kinetic-ode-generator/test.ipynb#W3sZmlsZQ%3D%3D?line=0'>1</a>\u001b[0m reaction_string \u001b[39m=\u001b[39m \u001b[39m'\u001b[39m\u001b[39m23P[A.A] + B -kpAAB-> 5P[A.B]\u001b[39m\u001b[39m'\u001b[39m\n\u001b[0;32m----> <a href='vscode-notebook-cell:/Users/shivanimadhan/Documents/research/kinetic-ode-generator/test.ipynb#W3sZmlsZQ%3D%3D?line=1'>2</a>\u001b[0m parse_reaction_string(reaction_string, all_species)\n",
      "File \u001b[0;32m~/Documents/research/kinetic-ode-generator/parse/parse_reactions.py:34\u001b[0m, in \u001b[0;36mparse_reaction_string\u001b[0;34m(reaction_string, all_species)\u001b[0m\n\u001b[1;32m     31\u001b[0m product_species \u001b[39m=\u001b[39m [parse_reaction_species_string(product, all_species) \u001b[39mfor\u001b[39;00m product \u001b[39min\u001b[39;00m products]\n\u001b[1;32m     33\u001b[0m \u001b[39m#Call parse_rate_constant\u001b[39;00m\n\u001b[0;32m---> 34\u001b[0m rate_constant \u001b[39m=\u001b[39m parse_reaction_constant(reaction_string)\n\u001b[1;32m     36\u001b[0m \u001b[39mreturn\u001b[39;00m reactant_species, product_species, rate_constant\n",
      "File \u001b[0;32m~/Documents/research/kinetic-ode-generator/parse/parse_rate_constant.py:31\u001b[0m, in \u001b[0;36mparse_reaction_constant\u001b[0;34m(reaction_string)\u001b[0m\n\u001b[1;32m     30\u001b[0m \u001b[39mdef\u001b[39;00m \u001b[39mparse_reaction_constant\u001b[39m(reaction_string):\n\u001b[0;32m---> 31\u001b[0m     constant \u001b[39m=\u001b[39m RateConstant()\n\u001b[1;32m     32\u001b[0m     \u001b[39mreturn\u001b[39;00m constant\n",
      "\u001b[0;31mTypeError\u001b[0m: RateConstant.__init__() missing 1 required positional argument: 'name'"
     ]
    }
   ],
   "source": [
    "reaction_string = '23P[A.A] + B -kpAAB-> 5P[A.B]'\n",
    "parse_reaction_string(reaction_string, all_species)"
   ]
  },
  {
   "cell_type": "code",
   "execution_count": 23,
   "metadata": {},
   "outputs": [
    {
     "name": "stdout",
     "output_type": "stream",
     "text": [
      "None\n"
     ]
    }
   ],
   "source": [
    "reactions_section = sections['reactions']\n",
    "all_reactions = parse_all_reactions(reactions_section, all_species)\n",
    "print(all_reactions)"
   ]
  },
  {
   "cell_type": "code",
   "execution_count": 24,
   "metadata": {},
   "outputs": [
    {
     "data": {
      "text/plain": [
       "['ktdBB'], {'A': 100000.0, 'E': 0.001}"
      ]
     },
     "execution_count": 24,
     "metadata": {},
     "output_type": "execute_result"
    }
   ],
   "source": [
    "str = \"ktdBB A=1e5 E=1e-3\"\n",
    "r = parse_constants_string(str)\n",
    "r"
   ]
  },
  {
   "cell_type": "code",
   "execution_count": 25,
   "metadata": {},
   "outputs": [
    {
     "name": "stdout",
     "output_type": "stream",
     "text": [
      "[['kd'], {'k': 100000.0, 'f': 0.5}, ['kpAAA'], {'k': 1000.0}, ['kpAAB'], {'k': 1000.0}, ['kpABA'], {'k': 1000.0}, ['kpABB'], {'k': 1000.0}, ['kpBAA'], {'k': 1000.0}, ['kpBAB'], {'k': 1000.0}, ['kpBBA'], {'k': 1000.0}, ['kpBBB'], {'k': 1000.0}, ['ktcAA'], {'k': 1000.0}, ['ktcAB'], {'k': 1000.0}, ['ktcBB'], {'k': 1000.0}, ['ktdAA'], {'k': 1000.0}, ['ktdAB'], {'k': 1000.0}, ['ktdBB'], {'A': 100000.0, 'E': 0.001}]\n"
     ]
    }
   ],
   "source": [
    "constants_section = sections['rate constants']\n",
    "all_constants = parse_all_constants(constants_section)\n",
    "print(all_constants)"
   ]
  },
  {
   "cell_type": "code",
   "execution_count": null,
   "metadata": {},
   "outputs": [
    {
     "name": "stdout",
     "output_type": "stream",
     "text": [
      "('P[A.A]', 'P[A.B]')\n",
      "('P[A.A]', 'P[B.B]')\n",
      "('P[B.A]', 'P[A.B]')\n",
      "('P[B.A]', 'P[B.B]')\n",
      "1: P[A.A] + P[A.B] -kpABC-> D\n",
      "2: P[A.A] + P[B.B] -kpABC-> D\n",
      "3: P[B.A] + P[A.B] -kpABC-> D\n",
      "4: P[B.A] + P[B.B] -kpABC-> D\n"
     ]
    }
   ],
   "source": [
    "from itertools import product\n",
    "\n",
    "# Given string format\n",
    "template_string = 'P[-.A] + P[-.B] -kpABC-> D'\n",
    "\n",
    "# Define possible replacements for \"P[-.A]\" and \"P[-.B]\"\n",
    "replacements_A = ['P[A.A]', 'P[B.A]']\n",
    "replacements_B = ['P[A.B]', 'P[B.B]']\n",
    "\n",
    "# Generate all permutations\n",
    "permutations = list(product(replacements_A, replacements_B))\n",
    "\n",
    "# Create a list of strings with permutations\n",
    "for p in permutations:\n",
    "    print(p)\n",
    "result_strings = [template_string.replace('P[-.A]', p[0]).replace('P[-.B]', p[1]) for p in permutations]\n",
    "\n",
    "# Print the result\n",
    "for idx, result_string in enumerate(result_strings, start=1):\n",
    "    print(f'{idx}: {result_string}')\n"
   ]
  },
  {
   "cell_type": "code",
   "execution_count": null,
   "metadata": {},
   "outputs": [],
   "source": []
  }
 ],
 "metadata": {
  "kernelspec": {
   "display_name": "kinetics",
   "language": "python",
   "name": "python3"
  },
  "language_info": {
   "codemirror_mode": {
    "name": "ipython",
    "version": 3
   },
   "file_extension": ".py",
   "mimetype": "text/x-python",
   "name": "python",
   "nbconvert_exporter": "python",
   "pygments_lexer": "ipython3",
   "version": "3.11.5"
  }
 },
 "nbformat": 4,
 "nbformat_minor": 2
}
