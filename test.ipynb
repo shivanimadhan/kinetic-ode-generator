{
 "cells": [
  {
   "cell_type": "code",
   "execution_count": 19,
   "metadata": {},
   "outputs": [
    {
     "name": "stdout",
     "output_type": "stream",
     "text": [
      "The autoreload extension is already loaded. To reload it, use:\n",
      "  %reload_ext autoreload\n"
     ]
    }
   ],
   "source": [
    "%load_ext autoreload\n",
    "%autoreload 2\n",
    "from parse.parse_reactions import ReactionParser\n",
    "from parse.parse_species import parse_species_string, parse_all_species\n",
    "from parse.parse_rate_constant import RateConstantParser\n",
    "from parse.parse_input import separate_input_file, parse_args_kwargs"
   ]
  },
  {
   "cell_type": "code",
   "execution_count": 20,
   "metadata": {},
   "outputs": [
    {
     "name": "stdout",
     "output_type": "stream",
     "text": [
      "{'general': [], 'species': [], 'rate constants': [], 'reactions': []}\n"
     ]
    },
    {
     "ename": "Exception",
     "evalue": "Not cool.",
     "output_type": "error",
     "traceback": [
      "\u001b[0;31m---------------------------------------------------------------------------\u001b[0m",
      "\u001b[0;31mException\u001b[0m                                 Traceback (most recent call last)",
      "\u001b[1;32m/Users/shivanimadhan/Documents/research/kinetic-ode-generator/test.ipynb Cell 2\u001b[0m line \u001b[0;36m3\n\u001b[1;32m      <a href='vscode-notebook-cell:/Users/shivanimadhan/Documents/research/kinetic-ode-generator/test.ipynb#X11sZmlsZQ%3D%3D?line=0'>1</a>\u001b[0m sections \u001b[39m=\u001b[39m separate_input_file(\u001b[39m'\u001b[39m\u001b[39minput/sample_input.txt\u001b[39m\u001b[39m'\u001b[39m)\n\u001b[1;32m      <a href='vscode-notebook-cell:/Users/shivanimadhan/Documents/research/kinetic-ode-generator/test.ipynb#X11sZmlsZQ%3D%3D?line=1'>2</a>\u001b[0m species_section \u001b[39m=\u001b[39m sections[\u001b[39m'\u001b[39m\u001b[39mspecies\u001b[39m\u001b[39m'\u001b[39m]\n\u001b[0;32m----> <a href='vscode-notebook-cell:/Users/shivanimadhan/Documents/research/kinetic-ode-generator/test.ipynb#X11sZmlsZQ%3D%3D?line=2'>3</a>\u001b[0m all_species, equivalent_species \u001b[39m=\u001b[39m parse_all_species(species_section)\n\u001b[1;32m      <a href='vscode-notebook-cell:/Users/shivanimadhan/Documents/research/kinetic-ode-generator/test.ipynb#X11sZmlsZQ%3D%3D?line=3'>4</a>\u001b[0m \u001b[39mprint\u001b[39m(all_species)\n",
      "File \u001b[0;32m~/Documents/research/kinetic-ode-generator/parse/parse_species.py:10\u001b[0m, in \u001b[0;36mparse_all_species\u001b[0;34m(species_section)\u001b[0m\n\u001b[1;32m      6\u001b[0m list_of_equivalent_species \u001b[39m=\u001b[39m []\n\u001b[1;32m      8\u001b[0m \u001b[39mfor\u001b[39;00m species_line \u001b[39min\u001b[39;00m species_section:\n\u001b[0;32m---> 10\u001b[0m     species \u001b[39m=\u001b[39m parse_species_string(species_line)\n\u001b[1;32m     12\u001b[0m     \u001b[39mif\u001b[39;00m \u001b[39misinstance\u001b[39m(species, Species):\n\u001b[1;32m     13\u001b[0m         list_of_all_species\u001b[39m.\u001b[39mappend(species)\n",
      "File \u001b[0;32m~/Documents/research/kinetic-ode-generator/parse/parse_species.py:44\u001b[0m, in \u001b[0;36mparse_species_string\u001b[0;34m(species_str)\u001b[0m\n\u001b[1;32m     42\u001b[0m     \u001b[39mreturn\u001b[39;00m species\n\u001b[1;32m     43\u001b[0m \u001b[39melse\u001b[39;00m:\n\u001b[0;32m---> 44\u001b[0m     \u001b[39mraise\u001b[39;00m \u001b[39mException\u001b[39;00m(\u001b[39m'\u001b[39m\u001b[39mNot cool.\u001b[39m\u001b[39m'\u001b[39m)\n",
      "\u001b[0;31mException\u001b[0m: Not cool."
     ]
    }
   ],
   "source": [
    "sections = separate_input_file('input/sample_input.txt')\n",
    "species_section = sections['species']\n",
    "all_species, equivalent_species = parse_all_species(species_section)\n",
    "print(all_species)"
   ]
  },
  {
   "cell_type": "code",
   "execution_count": null,
   "metadata": {},
   "outputs": [
    {
     "data": {
      "text/plain": [
       "Species(name='I', type=<SpeciesType.UNIT: 1>, FW=50.0, c0=0.005)"
      ]
     },
     "execution_count": 12,
     "metadata": {},
     "output_type": "execute_result"
    }
   ],
   "source": [
    "species_string = 'U I      c0=0.005 FW=50.0'\n",
    "parse_species_string(species_string)"
   ]
  },
  {
   "cell_type": "code",
   "execution_count": null,
   "metadata": {},
   "outputs": [],
   "source": [
    "constants_section = sections['rate constants']\n",
    "rcp = RateConstantParser()\n",
    "rcp.parse_all_constants(constants_section)"
   ]
  },
  {
   "cell_type": "code",
   "execution_count": null,
   "metadata": {},
   "outputs": [
    {
     "data": {
      "text/plain": [
       "('PR',\n",
       " [ReactionSpecies(species=Species(name='P[A.A]', type=<SpeciesType.POLY: 2>, FW=1.0, c0=0.0), coeff=23),\n",
       "  ReactionSpecies(species=Species(name='B', type=<SpeciesType.UNIT: 1>, FW=200.0, c0=1.5), coeff=1)],\n",
       " [ReactionSpecies(species=Species(name='P[A.B]', type=<SpeciesType.POLY: 2>, FW=1.0, c0=0.0), coeff=5)],\n",
       " ['kpAAB'], {'k': 1000.0})"
      ]
     },
     "execution_count": 14,
     "metadata": {},
     "output_type": "execute_result"
    }
   ],
   "source": [
    "reaction_string = 'PR 23P[A.A] + B -kpAAB-> 5P[A.B]'\n",
    "rp = ReactionParser(all_species, rcp)\n",
    "rp.parse_reaction_string(reaction_string)"
   ]
  },
  {
   "cell_type": "code",
   "execution_count": null,
   "metadata": {},
   "outputs": [
    {
     "name": "stdout",
     "output_type": "stream",
     "text": [
      "[Rate Constant:['kd'], {'k': 100000.0, 'f': 0.5},\n",
      "Unit Reactant Species: [ReactionSpecies(species=Species(name='I', type=<SpeciesType.UNIT: 1>, FW=50.0, c0=0.005), coeff=1)],\n",
      "Poly Reactant Species: [],\n",
      "Unit Product Species: [ReactionSpecies(species=Species(name='R', type=<SpeciesType.UNIT: 1>, FW=25.0, c0=0.0), coeff=2)],\n",
      "Poly Product Species: []\n",
      "\n",
      ", Rate Constant:['kpAAA'], {'k': 1000.0},\n",
      "Unit Reactant Species: [ReactionSpecies(species=Species(name='R', type=<SpeciesType.UNIT: 1>, FW=25.0, c0=0.0), coeff=1), ReactionSpecies(species=Species(name='A', type=<SpeciesType.UNIT: 1>, FW=100.0, c0=1.5), coeff=1)],\n",
      "Poly Reactant Species: [],\n",
      "Unit Product Species: [],\n",
      "Poly Product Species: [ReactionSpecies(species=Species(name='P[R.A]', type=<SpeciesType.POLY: 2>, FW=1.0, c0=0.0), coeff=1)]\n",
      "\n",
      ", Rate Constant:['kpBBB'], {'k': 1000.0},\n",
      "Unit Reactant Species: [ReactionSpecies(species=Species(name='R', type=<SpeciesType.UNIT: 1>, FW=25.0, c0=0.0), coeff=1), ReactionSpecies(species=Species(name='B', type=<SpeciesType.UNIT: 1>, FW=200.0, c0=1.5), coeff=1)],\n",
      "Poly Reactant Species: [],\n",
      "Unit Product Species: [],\n",
      "Poly Product Species: [ReactionSpecies(species=Species(name='P[R.B]', type=<SpeciesType.POLY: 2>, FW=1.0, c0=0.0), coeff=1)]\n",
      "\n",
      ", Rate Constant:['kpAAA'], {'k': 1000.0},\n",
      "Unit Reactant Species: [ReactionSpecies(species=Species(name='A', type=<SpeciesType.UNIT: 1>, FW=100.0, c0=1.5), coeff=1)],\n",
      "Poly Reactant Species: [ReactionSpecies(species=Species(name='P[R.A]', type=<SpeciesType.POLY: 2>, FW=1.0, c0=0.0), coeff=1)],\n",
      "Unit Product Species: [],\n",
      "Poly Product Species: [ReactionSpecies(species=Species(name='P[A.A]', type=<SpeciesType.POLY: 2>, FW=1.0, c0=0.0), coeff=1)]\n",
      "\n",
      ", Rate Constant:['kpAAB'], {'k': 1000.0},\n",
      "Unit Reactant Species: [ReactionSpecies(species=Species(name='B', type=<SpeciesType.UNIT: 1>, FW=200.0, c0=1.5), coeff=1)],\n",
      "Poly Reactant Species: [ReactionSpecies(species=Species(name='P[R.A]', type=<SpeciesType.POLY: 2>, FW=1.0, c0=0.0), coeff=1)],\n",
      "Unit Product Species: [],\n",
      "Poly Product Species: [ReactionSpecies(species=Species(name='P[A.B]', type=<SpeciesType.POLY: 2>, FW=1.0, c0=0.0), coeff=1)]\n",
      "\n",
      ", Rate Constant:['kpBBA'], {'k': 1000.0},\n",
      "Unit Reactant Species: [ReactionSpecies(species=Species(name='A', type=<SpeciesType.UNIT: 1>, FW=100.0, c0=1.5), coeff=1)],\n",
      "Poly Reactant Species: [ReactionSpecies(species=Species(name='P[R.B]', type=<SpeciesType.POLY: 2>, FW=1.0, c0=0.0), coeff=1)],\n",
      "Unit Product Species: [],\n",
      "Poly Product Species: [ReactionSpecies(species=Species(name='P[B.A]', type=<SpeciesType.POLY: 2>, FW=1.0, c0=0.0), coeff=1)]\n",
      "\n",
      ", Rate Constant:['kpBBB'], {'k': 1000.0},\n",
      "Unit Reactant Species: [ReactionSpecies(species=Species(name='B', type=<SpeciesType.UNIT: 1>, FW=200.0, c0=1.5), coeff=1)],\n",
      "Poly Reactant Species: [ReactionSpecies(species=Species(name='P[R.B]', type=<SpeciesType.POLY: 2>, FW=1.0, c0=0.0), coeff=1)],\n",
      "Unit Product Species: [],\n",
      "Poly Product Species: [ReactionSpecies(species=Species(name='P[B.B]', type=<SpeciesType.POLY: 2>, FW=1.0, c0=0.0), coeff=1)]\n",
      "\n",
      ", Rate Constant:['kpAAA'], {'k': 1000.0},\n",
      "Unit Reactant Species: [ReactionSpecies(species=Species(name='A', type=<SpeciesType.UNIT: 1>, FW=100.0, c0=1.5), coeff=1)],\n",
      "Poly Reactant Species: [ReactionSpecies(species=Species(name='P[A.A]', type=<SpeciesType.POLY: 2>, FW=1.0, c0=0.0), coeff=1)],\n",
      "Unit Product Species: [],\n",
      "Poly Product Species: [ReactionSpecies(species=Species(name='P[A.A]', type=<SpeciesType.POLY: 2>, FW=1.0, c0=0.0), coeff=1)]\n",
      "\n",
      ", Rate Constant:['kpAAB'], {'k': 1000.0},\n",
      "Unit Reactant Species: [ReactionSpecies(species=Species(name='B', type=<SpeciesType.UNIT: 1>, FW=200.0, c0=1.5), coeff=1)],\n",
      "Poly Reactant Species: [ReactionSpecies(species=Species(name='P[A.A]', type=<SpeciesType.POLY: 2>, FW=1.0, c0=0.0), coeff=1)],\n",
      "Unit Product Species: [],\n",
      "Poly Product Species: [ReactionSpecies(species=Species(name='P[A.B]', type=<SpeciesType.POLY: 2>, FW=1.0, c0=0.0), coeff=1)]\n",
      "\n",
      ", Rate Constant:['kpABA'], {'k': 1000.0},\n",
      "Unit Reactant Species: [ReactionSpecies(species=Species(name='A', type=<SpeciesType.UNIT: 1>, FW=100.0, c0=1.5), coeff=1)],\n",
      "Poly Reactant Species: [ReactionSpecies(species=Species(name='P[A.B]', type=<SpeciesType.POLY: 2>, FW=1.0, c0=0.0), coeff=1)],\n",
      "Unit Product Species: [],\n",
      "Poly Product Species: [ReactionSpecies(species=Species(name='P[B.A]', type=<SpeciesType.POLY: 2>, FW=1.0, c0=0.0), coeff=1)]\n",
      "\n",
      ", Rate Constant:['kpABB'], {'k': 1000.0},\n",
      "Unit Reactant Species: [ReactionSpecies(species=Species(name='B', type=<SpeciesType.UNIT: 1>, FW=200.0, c0=1.5), coeff=1)],\n",
      "Poly Reactant Species: [ReactionSpecies(species=Species(name='P[A.B]', type=<SpeciesType.POLY: 2>, FW=1.0, c0=0.0), coeff=1)],\n",
      "Unit Product Species: [],\n",
      "Poly Product Species: [ReactionSpecies(species=Species(name='P[B.B]', type=<SpeciesType.POLY: 2>, FW=1.0, c0=0.0), coeff=1)]\n",
      "\n",
      ", Rate Constant:['kpBAA'], {'k': 1000.0},\n",
      "Unit Reactant Species: [ReactionSpecies(species=Species(name='A', type=<SpeciesType.UNIT: 1>, FW=100.0, c0=1.5), coeff=1)],\n",
      "Poly Reactant Species: [ReactionSpecies(species=Species(name='P[B.A]', type=<SpeciesType.POLY: 2>, FW=1.0, c0=0.0), coeff=1)],\n",
      "Unit Product Species: [],\n",
      "Poly Product Species: [ReactionSpecies(species=Species(name='P[A.A]', type=<SpeciesType.POLY: 2>, FW=1.0, c0=0.0), coeff=1)]\n",
      "\n",
      ", Rate Constant:['kpBAB'], {'k': 1000.0},\n",
      "Unit Reactant Species: [ReactionSpecies(species=Species(name='B', type=<SpeciesType.UNIT: 1>, FW=200.0, c0=1.5), coeff=1)],\n",
      "Poly Reactant Species: [ReactionSpecies(species=Species(name='P[B.A]', type=<SpeciesType.POLY: 2>, FW=1.0, c0=0.0), coeff=1)],\n",
      "Unit Product Species: [],\n",
      "Poly Product Species: [ReactionSpecies(species=Species(name='P[A.B]', type=<SpeciesType.POLY: 2>, FW=1.0, c0=0.0), coeff=1)]\n",
      "\n",
      ", Rate Constant:['kpBBA'], {'k': 1000.0},\n",
      "Unit Reactant Species: [ReactionSpecies(species=Species(name='A', type=<SpeciesType.UNIT: 1>, FW=100.0, c0=1.5), coeff=1)],\n",
      "Poly Reactant Species: [ReactionSpecies(species=Species(name='P[B.B]', type=<SpeciesType.POLY: 2>, FW=1.0, c0=0.0), coeff=1)],\n",
      "Unit Product Species: [],\n",
      "Poly Product Species: [ReactionSpecies(species=Species(name='P[B.A]', type=<SpeciesType.POLY: 2>, FW=1.0, c0=0.0), coeff=1)]\n",
      "\n",
      ", Rate Constant:['kpBBB'], {'k': 1000.0},\n",
      "Unit Reactant Species: [ReactionSpecies(species=Species(name='B', type=<SpeciesType.UNIT: 1>, FW=200.0, c0=1.5), coeff=1)],\n",
      "Poly Reactant Species: [ReactionSpecies(species=Species(name='P[B.B]', type=<SpeciesType.POLY: 2>, FW=1.0, c0=0.0), coeff=1)],\n",
      "Unit Product Species: [],\n",
      "Poly Product Species: [ReactionSpecies(species=Species(name='P[B.B]', type=<SpeciesType.POLY: 2>, FW=1.0, c0=0.0), coeff=1)]\n",
      "\n",
      ", Rate Constant:None,\n",
      "Unit Reactant Species: [],\n",
      "Poly Reactant Species: [ReactionSpecies(species=Species(name='P[B.B]', type=<SpeciesType.POLY: 2>, FW=1.0, c0=0.0), coeff=1)],\n",
      "Unit Product Species: [ReactionSpecies(species=Species(name='B', type=<SpeciesType.UNIT: 1>, FW=200.0, c0=1.5), coeff=1)],\n",
      "Poly Product Species: [ReactionSpecies(species=None, coeff=1)]\n",
      "\n",
      ", Rate Constant:['ktcAA'], {'k': 1000.0},\n",
      "Unit Reactant Species: [],\n",
      "Poly Reactant Species: [ReactionSpecies(species=None, coeff=1), ReactionSpecies(species=None, coeff=1)],\n",
      "Unit Product Species: [],\n",
      "Poly Product Species: [ReactionSpecies(species=Species(name='D', type=<SpeciesType.POLY: 2>, FW=1.0, c0=0.0), coeff=1)]\n",
      "\n",
      ", Rate Constant:['ktcAB'], {'k': 1000.0},\n",
      "Unit Reactant Species: [],\n",
      "Poly Reactant Species: [ReactionSpecies(species=None, coeff=1), ReactionSpecies(species=None, coeff=1)],\n",
      "Unit Product Species: [],\n",
      "Poly Product Species: [ReactionSpecies(species=Species(name='D', type=<SpeciesType.POLY: 2>, FW=1.0, c0=0.0), coeff=1)]\n",
      "\n",
      ", Rate Constant:['ktcBB'], {'k': 1000.0},\n",
      "Unit Reactant Species: [],\n",
      "Poly Reactant Species: [ReactionSpecies(species=None, coeff=1), ReactionSpecies(species=None, coeff=1)],\n",
      "Unit Product Species: [],\n",
      "Poly Product Species: [ReactionSpecies(species=Species(name='D', type=<SpeciesType.POLY: 2>, FW=1.0, c0=0.0), coeff=1)]\n",
      "\n",
      ", Rate Constant:['ktcAA'], {'k': 1000.0},\n",
      "Unit Reactant Species: [],\n",
      "Poly Reactant Species: [ReactionSpecies(species=None, coeff=1), ReactionSpecies(species=None, coeff=1)],\n",
      "Unit Product Species: [],\n",
      "Poly Product Species: [ReactionSpecies(species=Species(name='D', type=<SpeciesType.POLY: 2>, FW=1.0, c0=0.0), coeff=2)]\n",
      "\n",
      ", Rate Constant:['ktcAB'], {'k': 1000.0},\n",
      "Unit Reactant Species: [],\n",
      "Poly Reactant Species: [ReactionSpecies(species=None, coeff=1), ReactionSpecies(species=None, coeff=1)],\n",
      "Unit Product Species: [],\n",
      "Poly Product Species: [ReactionSpecies(species=Species(name='D', type=<SpeciesType.POLY: 2>, FW=1.0, c0=0.0), coeff=2)]\n",
      "\n",
      ", Rate Constant:['ktcBB'], {'k': 1000.0},\n",
      "Unit Reactant Species: [],\n",
      "Poly Reactant Species: [ReactionSpecies(species=None, coeff=1), ReactionSpecies(species=None, coeff=1)],\n",
      "Unit Product Species: [],\n",
      "Poly Product Species: [ReactionSpecies(species=Species(name='D', type=<SpeciesType.POLY: 2>, FW=1.0, c0=0.0), coeff=2)]\n",
      "\n",
      "]\n"
     ]
    }
   ],
   "source": [
    "reactions_section = sections['reactions']\n",
    "all_reactions = rp.parse_all_reactions(reactions_section)\n",
    "print(all_reactions)"
   ]
  },
  {
   "cell_type": "code",
   "execution_count": null,
   "metadata": {},
   "outputs": [
    {
     "data": {
      "text/plain": [
       "['ktdBB'], {'A': 100000.0, 'E': 0.001}"
      ]
     },
     "execution_count": 16,
     "metadata": {},
     "output_type": "execute_result"
    }
   ],
   "source": [
    "str = \"ktdBB A=1e5 E=1e-3\"\n",
    "r = rcp.parse_constants_string(str)\n",
    "r\n"
   ]
  },
  {
   "cell_type": "code",
   "execution_count": null,
   "metadata": {},
   "outputs": [
    {
     "name": "stdout",
     "output_type": "stream",
     "text": [
      "['kpAAA'], {'k': 1000.0}\n"
     ]
    }
   ],
   "source": [
    "c = rcp.parse_reaction_constant(\"PR P[R.A] + A -kpAAA-> P[A.A]\")\n",
    "print(c)"
   ]
  },
  {
   "cell_type": "code",
   "execution_count": null,
   "metadata": {},
   "outputs": [
    {
     "name": "stdout",
     "output_type": "stream",
     "text": [
      "('P[A.A]', 'P[A.B]')\n",
      "('P[A.A]', 'P[B.B]')\n",
      "('P[B.A]', 'P[A.B]')\n",
      "('P[B.A]', 'P[B.B]')\n",
      "1: P[A.A] + P[A.B] -kpABC-> D\n",
      "2: P[A.A] + P[B.B] -kpABC-> D\n",
      "3: P[B.A] + P[A.B] -kpABC-> D\n",
      "4: P[B.A] + P[B.B] -kpABC-> D\n"
     ]
    }
   ],
   "source": [
    "from itertools import product\n",
    "\n",
    "# Given string format\n",
    "template_string = 'P[-.A] + P[-.B] -kpABC-> D'\n",
    "\n",
    "# Define possible replacements for \"P[-.A]\" and \"P[-.B]\"\n",
    "replacements_A = ['P[A.A]', 'P[B.A]']\n",
    "replacements_B = ['P[A.B]', 'P[B.B]']\n",
    "\n",
    "# Generate all permutations\n",
    "permutations = list(product(replacements_A, replacements_B))\n",
    "\n",
    "# Create a list of strings with permutations\n",
    "for p in permutations:\n",
    "    print(p)\n",
    "result_strings = [template_string.replace('P[-.A]', p[0]).replace('P[-.B]', p[1]) for p in permutations]\n",
    "\n",
    "# Print the result\n",
    "for idx, result_string in enumerate(result_strings, start=1):\n",
    "    print(f'{idx}: {result_string}')\n"
   ]
  },
  {
   "cell_type": "code",
   "execution_count": null,
   "metadata": {},
   "outputs": [],
   "source": []
  }
 ],
 "metadata": {
  "kernelspec": {
   "display_name": "kinetics",
   "language": "python",
   "name": "python3"
  },
  "language_info": {
   "codemirror_mode": {
    "name": "ipython",
    "version": 3
   },
   "file_extension": ".py",
   "mimetype": "text/x-python",
   "name": "python",
   "nbconvert_exporter": "python",
   "pygments_lexer": "ipython3",
   "version": "3.11.5"
  }
 },
 "nbformat": 4,
 "nbformat_minor": 2
}
