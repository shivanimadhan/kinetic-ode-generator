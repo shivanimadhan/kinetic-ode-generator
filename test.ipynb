{
 "cells": [
  {
   "cell_type": "code",
   "execution_count": 496,
   "metadata": {},
   "outputs": [
    {
     "name": "stdout",
     "output_type": "stream",
     "text": [
      "The autoreload extension is already loaded. To reload it, use:\n",
      "  %reload_ext autoreload\n"
     ]
    }
   ],
   "source": [
    "%load_ext autoreload\n",
    "%autoreload 2\n",
    "from parse.parse_reactions import ReactionParser\n",
    "from parse.parse_species import parse_species_string, parse_all_species\n",
    "from parse.parse_rate_constant import RateConstantParser\n",
    "from parse.parse_input import separate_input_file, parse_args_kwargs"
   ]
  },
  {
   "cell_type": "code",
   "execution_count": 497,
   "metadata": {},
   "outputs": [
    {
     "name": "stdout",
     "output_type": "stream",
     "text": [
      "{'general': [], 'species': [], 'rate constants': [], 'reactions': []}\n",
      "[Species(name='I', type=<SpeciesType.UNIT: 1>, FW=50.0, c0=0.005), Species(name='R', type=<SpeciesType.UNIT: 1>, FW=25.0, c0=0.0), Species(name='A', type=<SpeciesType.UNIT: 1>, FW=100.0, c0=1.5), Species(name='B', type=<SpeciesType.UNIT: 1>, FW=200.0, c0=1.5), Species(name='P[R.A]', type=<SpeciesType.POLY: 2>, FW=1.0, c0=0.0), Species(name='P[R.B]', type=<SpeciesType.POLY: 2>, FW=1.0, c0=0.0), Species(name='P[A.A]', type=<SpeciesType.POLY: 2>, FW=1.0, c0=0.0), Species(name='P[A.B]', type=<SpeciesType.POLY: 2>, FW=1.0, c0=0.0), Species(name='P[B.A]', type=<SpeciesType.POLY: 2>, FW=1.0, c0=0.0), Species(name='P[B.B]', type=<SpeciesType.POLY: 2>, FW=1.0, c0=0.0), Species(name='D', type=<SpeciesType.POLY: 2>, FW=1.0, c0=0.0)]\n"
     ]
    }
   ],
   "source": [
    "sections = separate_input_file('input/sample_input.txt')\n",
    "species_section = sections['species']\n",
    "all_species, equivalent_species = parse_all_species(species_section)\n",
    "print(all_species)"
   ]
  },
  {
   "cell_type": "code",
   "execution_count": 498,
   "metadata": {},
   "outputs": [
    {
     "data": {
      "text/plain": [
       "Species(name='I', type=<SpeciesType.UNIT: 1>, FW=50.0, c0=0.005)"
      ]
     },
     "execution_count": 498,
     "metadata": {},
     "output_type": "execute_result"
    }
   ],
   "source": [
    "species_string = 'U I      c0=0.005 FW=50.0'\n",
    "parse_species_string(species_string)"
   ]
  },
  {
   "cell_type": "code",
   "execution_count": 499,
   "metadata": {},
   "outputs": [],
   "source": [
    "constants_section = sections['rate constants']\n",
    "RateConstantParser.parse_all_constants(constants_section)"
   ]
  },
  {
   "cell_type": "code",
   "execution_count": 500,
   "metadata": {},
   "outputs": [
    {
     "ename": "TypeError",
     "evalue": "ReactionParser.parse_reaction_string() takes 1 positional argument but 2 were given",
     "output_type": "error",
     "traceback": [
      "\u001b[0;31m---------------------------------------------------------------------------\u001b[0m",
      "\u001b[0;31mTypeError\u001b[0m                                 Traceback (most recent call last)",
      "\u001b[1;32m/Users/shivanimadhan/Documents/research/kinetic-ode-generator/test.ipynb Cell 5\u001b[0m line \u001b[0;36m3\n\u001b[1;32m      <a href='vscode-notebook-cell:/Users/shivanimadhan/Documents/research/kinetic-ode-generator/test.ipynb#W3sZmlsZQ%3D%3D?line=0'>1</a>\u001b[0m reaction_string \u001b[39m=\u001b[39m \u001b[39m'\u001b[39m\u001b[39m23P[A.A] + B -kpAAB-> 5P[A.B]\u001b[39m\u001b[39m'\u001b[39m\n\u001b[1;32m      <a href='vscode-notebook-cell:/Users/shivanimadhan/Documents/research/kinetic-ode-generator/test.ipynb#W3sZmlsZQ%3D%3D?line=1'>2</a>\u001b[0m r \u001b[39m=\u001b[39m ReactionParser(all_species)\n\u001b[0;32m----> <a href='vscode-notebook-cell:/Users/shivanimadhan/Documents/research/kinetic-ode-generator/test.ipynb#W3sZmlsZQ%3D%3D?line=2'>3</a>\u001b[0m r\u001b[39m.\u001b[39;49mparse_reaction_string(reaction_string)\n",
      "\u001b[0;31mTypeError\u001b[0m: ReactionParser.parse_reaction_string() takes 1 positional argument but 2 were given"
     ]
    }
   ],
   "source": [
    "reaction_string = '23P[A.A] + B -kpAAB-> 5P[A.B]'\n",
    "r = ReactionParser(all_species)\n",
    "r.parse_reaction_string(reaction_string)"
   ]
  },
  {
   "cell_type": "code",
   "execution_count": 501,
   "metadata": {},
   "outputs": [
    {
     "ename": "TypeError",
     "evalue": "ReactionParser.parse_all_reactions() takes 1 positional argument but 2 were given",
     "output_type": "error",
     "traceback": [
      "\u001b[0;31m---------------------------------------------------------------------------\u001b[0m",
      "\u001b[0;31mTypeError\u001b[0m                                 Traceback (most recent call last)",
      "\u001b[1;32m/Users/shivanimadhan/Documents/research/kinetic-ode-generator/test.ipynb Cell 6\u001b[0m line \u001b[0;36m2\n\u001b[1;32m      <a href='vscode-notebook-cell:/Users/shivanimadhan/Documents/research/kinetic-ode-generator/test.ipynb#W4sZmlsZQ%3D%3D?line=0'>1</a>\u001b[0m reactions_section \u001b[39m=\u001b[39m sections[\u001b[39m'\u001b[39m\u001b[39mreactions\u001b[39m\u001b[39m'\u001b[39m]\n\u001b[0;32m----> <a href='vscode-notebook-cell:/Users/shivanimadhan/Documents/research/kinetic-ode-generator/test.ipynb#W4sZmlsZQ%3D%3D?line=1'>2</a>\u001b[0m all_reactions \u001b[39m=\u001b[39m r\u001b[39m.\u001b[39;49mparse_all_reactions(reactions_section)\n\u001b[1;32m      <a href='vscode-notebook-cell:/Users/shivanimadhan/Documents/research/kinetic-ode-generator/test.ipynb#W4sZmlsZQ%3D%3D?line=2'>3</a>\u001b[0m \u001b[39mprint\u001b[39m(all_reactions)\n",
      "\u001b[0;31mTypeError\u001b[0m: ReactionParser.parse_all_reactions() takes 1 positional argument but 2 were given"
     ]
    }
   ],
   "source": [
    "reactions_section = sections['reactions']\n",
    "all_reactions = r.parse_all_reactions(reactions_section)\n",
    "print(all_reactions)"
   ]
  },
  {
   "cell_type": "code",
   "execution_count": 502,
   "metadata": {},
   "outputs": [
    {
     "data": {
      "text/plain": [
       "['ktdBB'], {'A': 100000.0, 'E': 0.001}"
      ]
     },
     "execution_count": 502,
     "metadata": {},
     "output_type": "execute_result"
    }
   ],
   "source": [
    "str = \"ktdBB A=1e5 E=1e-3\"\n",
    "r = RateConstantParser.parse_constants_string(str)\n",
    "r"
   ]
  },
  {
   "cell_type": "code",
   "execution_count": 503,
   "metadata": {},
   "outputs": [
    {
     "name": "stdout",
     "output_type": "stream",
     "text": [
      "['kpAAA'], {'k': 1000.0}\n"
     ]
    }
   ],
   "source": [
    "c = RateConstantParser.parse_reaction_constant(\"PR P[R.A] + A -kpAAA-> P[A.A]\")\n",
    "print(c)"
   ]
  },
  {
   "cell_type": "code",
   "execution_count": null,
   "metadata": {},
   "outputs": [
    {
     "name": "stdout",
     "output_type": "stream",
     "text": [
      "('P[A.A]', 'P[A.B]')\n",
      "('P[A.A]', 'P[B.B]')\n",
      "('P[B.A]', 'P[A.B]')\n",
      "('P[B.A]', 'P[B.B]')\n",
      "1: P[A.A] + P[A.B] -kpABC-> D\n",
      "2: P[A.A] + P[B.B] -kpABC-> D\n",
      "3: P[B.A] + P[A.B] -kpABC-> D\n",
      "4: P[B.A] + P[B.B] -kpABC-> D\n"
     ]
    }
   ],
   "source": [
    "from itertools import product\n",
    "\n",
    "# Given string format\n",
    "template_string = 'P[-.A] + P[-.B] -kpABC-> D'\n",
    "\n",
    "# Define possible replacements for \"P[-.A]\" and \"P[-.B]\"\n",
    "replacements_A = ['P[A.A]', 'P[B.A]']\n",
    "replacements_B = ['P[A.B]', 'P[B.B]']\n",
    "\n",
    "# Generate all permutations\n",
    "permutations = list(product(replacements_A, replacements_B))\n",
    "\n",
    "# Create a list of strings with permutations\n",
    "for p in permutations:\n",
    "    print(p)\n",
    "result_strings = [template_string.replace('P[-.A]', p[0]).replace('P[-.B]', p[1]) for p in permutations]\n",
    "\n",
    "# Print the result\n",
    "for idx, result_string in enumerate(result_strings, start=1):\n",
    "    print(f'{idx}: {result_string}')\n"
   ]
  },
  {
   "cell_type": "code",
   "execution_count": null,
   "metadata": {},
   "outputs": [],
   "source": []
  }
 ],
 "metadata": {
  "kernelspec": {
   "display_name": "kinetics",
   "language": "python",
   "name": "python3"
  },
  "language_info": {
   "codemirror_mode": {
    "name": "ipython",
    "version": 3
   },
   "file_extension": ".py",
   "mimetype": "text/x-python",
   "name": "python",
   "nbconvert_exporter": "python",
   "pygments_lexer": "ipython3",
   "version": "3.11.5"
  }
 },
 "nbformat": 4,
 "nbformat_minor": 2
}
