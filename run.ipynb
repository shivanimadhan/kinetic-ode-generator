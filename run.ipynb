{
 "cells": [
  {
   "cell_type": "code",
   "execution_count": 5,
   "metadata": {},
   "outputs": [],
   "source": [
    "from main import write_odes\n",
    "from scipy.integrate import solve_ivp"
   ]
  },
  {
   "cell_type": "code",
   "execution_count": 6,
   "metadata": {},
   "outputs": [],
   "source": [
    "input_filepath = \"input/sample_input.txt\"\n",
    "write_odes(input_filepath)"
   ]
  },
  {
   "cell_type": "code",
   "execution_count": 7,
   "metadata": {},
   "outputs": [],
   "source": [
    "import kinetic_odes as kodes"
   ]
  },
  {
   "cell_type": "code",
   "execution_count": 8,
   "metadata": {},
   "outputs": [
    {
     "data": {
      "text/plain": [
       "array([[ 5.00000000e-03,  4.98724081e-03,  4.97451339e-03, ...,\n",
       "        -7.21662303e-72, -1.15760486e-70,  9.31133738e-72],\n",
       "       [ 0.00000000e+00,  1.27591773e-05,  2.54865740e-05, ...,\n",
       "        -1.40569083e-15, -5.87835608e-18,  4.97496510e-18],\n",
       "       [ 1.50000000e+00,  1.50000000e+00,  1.50000000e+00, ...,\n",
       "         8.12851983e-01,  6.14500117e-01,  4.90337444e-01],\n",
       "       ...,\n",
       "       [ 0.00000000e+00,  2.67458464e-21,  1.15277600e-20, ...,\n",
       "         7.75022840e-05,  1.03370749e-04,  1.26905771e-04],\n",
       "       [ 0.00000000e+00,  5.52977728e-21,  2.38339711e-20, ...,\n",
       "         3.33719044e-03,  2.84996839e-03,  2.41905185e-03],\n",
       "       [ 0.00000000e+00,  0.00000000e+00,  0.00000000e+00, ...,\n",
       "         0.00000000e+00,  0.00000000e+00,  0.00000000e+00]])"
      ]
     },
     "execution_count": 8,
     "metadata": {},
     "output_type": "execute_result"
    }
   ],
   "source": [
    "sol = solve_ivp(kodes.kinetic_odes, [0, 300], kodes.c0, 'BDF')\n",
    "sol.y"
   ]
  }
 ],
 "metadata": {
  "kernelspec": {
   "display_name": "kinetics",
   "language": "python",
   "name": "python3"
  },
  "language_info": {
   "codemirror_mode": {
    "name": "ipython",
    "version": 3
   },
   "file_extension": ".py",
   "mimetype": "text/x-python",
   "name": "python",
   "nbconvert_exporter": "python",
   "pygments_lexer": "ipython3",
   "version": "3.11.5"
  }
 },
 "nbformat": 4,
 "nbformat_minor": 2
}
