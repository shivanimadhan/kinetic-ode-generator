{
 "cells": [
  {
   "cell_type": "code",
   "execution_count": 100,
   "metadata": {},
   "outputs": [],
   "source": [
    "import numpy as np\n",
    "import matplotlib.pyplot as plt\n",
    "from scipy.integrate import solve_ivp\n",
    "np.set_printoptions(precision = 4)"
   ]
  },
  {
   "cell_type": "code",
   "execution_count": 101,
   "metadata": {},
   "outputs": [],
   "source": [
    "# Initiator Decomposition Rate Constant\n",
    "kd     = 1E5;\n",
    "\n",
    "# Propagation Rate Constants\n",
    "kpAAA  = 30.6;\n",
    "kpBBB  = 0.643;\n",
    "kpAAB  = 87.6;\n",
    "kpBBA  = 0.311;\n",
    "kpBAA  = 12.2;\n",
    "kpABB  = 1.52;\n",
    "kpABA  = 0.735;\n",
    "kpBAB  = 36.8;\n",
    "\n",
    "# Termination Rate Constants\n",
    "ktdAA = 0;\n",
    "ktcAA = 0;\n",
    "ktdAB = 0;\n",
    "ktcAB = 0;\n",
    "ktdBB = 0;\n",
    "ktcBB = 0;\n",
    "ktAA  = ktdAA + ktcAA;\n",
    "ktAB  = ktdAB + ktcAB;\n",
    "ktBB  = ktdBB + ktcBB;"
   ]
  },
  {
   "cell_type": "code",
   "execution_count": 102,
   "metadata": {},
   "outputs": [],
   "source": [
    "def kinetic_odes(t, c):\n",
    "    \"\"\"Returns a set of differential kinetic equations\n",
    "\n",
    "    Args:\n",
    "        t (np.ndarray): array of time points (s)\n",
    "        c (np.ndarray): array of concentrations (M)\n",
    "\n",
    "    Returns:\n",
    "        np.ndarray: dcdt, array of differential concentrations (M/s)\n",
    "    \"\"\"\n",
    "\n",
    "    # Array of differential concentrations\n",
    "    dcdt = np.zeros_like(c)\n",
    "\n",
    "    # Defining concentrations as variables\n",
    "    I   = c[0]\n",
    "    R   = c[1]\n",
    "    A   = c[2]\n",
    "    B   = c[3]\n",
    "    RA  = c[4]\n",
    "    RB  = c[5]\n",
    "    PAA = c[6]\n",
    "    PAB = c[7]\n",
    "    PBA = c[8]\n",
    "    PBB = c[9]\n",
    "    D   = c[10]\n",
    "\n",
    "    PA = PAA + PBA\n",
    "    PB = PAB + PBB\n",
    "\n",
    "    # Defining differential concentrations\n",
    "\n",
    "    ## 00 - I, Initiator concentration\n",
    "    dcdt[0] = -kd*I\n",
    "\n",
    "    ## 01 - R, Free radical concentration\n",
    "    dcdt[1] = 2*0.5*kd*I - kpAAA*R*A - kpBBB*R*B\n",
    "\n",
    "    ## 02 - A, A monomer concentration\n",
    "    dcdt[2] = -A*(kpAAA*R*A + kpAAA*RA + kpBBA*RB + kpAAA*PAA + kpABA*PAB + kpBAA*PBA + kpBBA*PBB)\n",
    "\n",
    "    ## 03 - B, B monomer concentration\n",
    "    dcdt[3] = -B*(kpBBB*R + kpBBB*RB + kpAAB*RA + kpBBB*PBB + kpBAB*PBA + kpABB*PAB + kpAAB*PAA)\n",
    "\n",
    "    ## 04 - RA, RA dimer concentration\n",
    "    dcdt[4] = kpAAA*R*A - kpAAA*RA*A - kpAAB*RA*B \n",
    "\n",
    "    ## 05 - RB, RB dimer concentration\n",
    "    dcdt[5] = kpBBB*R*B - kpBBB*RB*B - kpBBA*RB*A\n",
    "\n",
    "    ## 06 - PAA, polymer with AA chain end concentration\n",
    "    dcdt[6] = kpAAA*RA*A -kpAAB*PAA*B + kpBAA*PBA*A - ktAA*PAA*PA - ktAB*PAA*PB\n",
    "\n",
    "    ## 07 - PAB, polymer with AB chain end concentration\n",
    "    dcdt[7] = kpAAB*RA*B + kpAAB*PAA*B - kpABA*PAB*A - kpABB*PAB*A + kpBAB*PBA*B -ktAB*PAB*PA -ktBB*PAB*PB\n",
    "\n",
    "    ## 08 - PBA, polymer with BA chain end concentration\n",
    "    dcdt[8] = kpBBA*RB*A + kpBBA*PBB*A - kpBAB*PBA*B - kpBAA*PBA*B + kpABA*PAB*A -ktAB*PBA*PB -ktAA*PBA*PA\n",
    "\n",
    "    ## 09 - PBB, polymer with BB chain end concentration\n",
    "    dcdt[9] = kpBBB*RB*B -kpBBA*PBB*A + kpABB*PAB*B - ktBB*PBB*PB - ktAB*PBB*PA\n",
    "\n",
    "    ## 10 - D, dead polymer concentration\n",
    "    dcdt[10] = PA*PA*(ktcAA + 2*ktdAA) + PA*PB*(ktcAB + 2*ktdAB) + PB*PB*(ktcBB + 2*ktdBB)\n",
    "\n",
    "    return dcdt"
   ]
  },
  {
   "cell_type": "code",
   "execution_count": 103,
   "metadata": {},
   "outputs": [],
   "source": [
    "sol = solve_ivp(kinetic_odes, [0, 300], [0.005, 0, 1.5, 1.5, 0, 0, 0, 0, 0, 0, 0], 'BDF')"
   ]
  },
  {
   "cell_type": "code",
   "execution_count": 104,
   "metadata": {},
   "outputs": [
    {
     "data": {
      "image/png": "[encoded data removed]",
      "text/plain": [
       "<Figure size 640x480 with 1 Axes>"
      ]
     },
     "metadata": {},
     "output_type": "display_data"
    }
   ],
   "source": [
    "plt.plot(sol.t, sol.y[2, :])\n",
    "plt.plot(sol.t, sol.y[3, :])\n",
    "plt.xlabel('$t$') \n",
    "plt.ylabel('$C$')\n",
    "plt.ylim(0, 2)\n",
    "plt.show()"
   ]
  }
 ],
 "metadata": {
  "kernelspec": {
   "display_name": "Python 3",
   "language": "python",
   "name": "python3"
  },
  "language_info": {
   "codemirror_mode": {
    "name": "ipython",
    "version": 3
   },
   "file_extension": ".py",
   "mimetype": "text/x-python",
   "name": "python",
   "nbconvert_exporter": "python",
   "pygments_lexer": "ipython3",
   "version": "3.11.5"
  },
  "orig_nbformat": 4,
  "vscode": {
   "interpreter": {
    "hash": "b0fa6594d8f4cbf19f97940f81e996739fb7646882a419484c72d19e05852a7e"
   }
  }
 },
 "nbformat": 4,
 "nbformat_minor": 2
}
